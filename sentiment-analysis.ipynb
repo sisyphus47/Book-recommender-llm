{
 "cells": [
  {
   "cell_type": "code",
   "execution_count": null,
   "id": "initial_id",
   "metadata": {
    "collapsed": true
   },
   "outputs": [],
   "source": []
  },
  {
   "cell_type": "code",
   "execution_count": 4,
   "outputs": [],
   "source": [
    "import pandas as pd\n",
    "\n",
    "books = pd.read_csv(\"books_with_categories.csv\")"
   ],
   "metadata": {
    "collapsed": false,
    "ExecuteTime": {
     "end_time": "2025-06-25T20:34:33.983297900Z",
     "start_time": "2025-06-25T20:34:33.914044500Z"
    }
   },
   "id": "ab7e347629813811"
  },
  {
   "cell_type": "code",
   "execution_count": null,
   "outputs": [],
   "source": [],
   "metadata": {
    "collapsed": false
   },
   "id": "5f8245fe17fbccb3"
  },
  {
   "cell_type": "code",
   "execution_count": 2,
   "outputs": [
    {
     "name": "stderr",
     "output_type": "stream",
     "text": [
      "Device set to use cuda:0\n"
     ]
    },
    {
     "data": {
      "text/plain": "[[{'label': 'joy', 'score': 0.9771687984466553},\n  {'label': 'surprise', 'score': 0.008528667502105236},\n  {'label': 'neutral', 'score': 0.005764591973274946},\n  {'label': 'anger', 'score': 0.004419775679707527},\n  {'label': 'sadness', 'score': 0.002092392183840275},\n  {'label': 'disgust', 'score': 0.0016119909705594182},\n  {'label': 'fear', 'score': 0.00041385178337804973}]]"
     },
     "execution_count": 2,
     "metadata": {},
     "output_type": "execute_result"
    }
   ],
   "source": [
    "from transformers import pipeline\n",
    "classifier = pipeline(\"text-classification\",\n",
    "                      model=\"j-hartmann/emotion-english-distilroberta-base\",\n",
    "                      top_k = None,\n",
    "                      device = 0)\n",
    "classifier(\"I love this!\")"
   ],
   "metadata": {
    "collapsed": false,
    "ExecuteTime": {
     "end_time": "2025-06-25T20:33:53.967133500Z",
     "start_time": "2025-06-25T20:33:52.416001300Z"
    }
   },
   "id": "b6321ff234272330"
  },
  {
   "cell_type": "code",
   "execution_count": 5,
   "outputs": [
    {
     "data": {
      "text/plain": "'A NOVEL THAT READERS and critics have been eagerly anticipating for over a decade, Gilead is an astonishingly imagined story of remarkable lives. John Ames is a preacher, the son of a preacher and the grandson (both maternal and paternal) of preachers. It’s 1956 in Gilead, Iowa, towards the end of the Reverend Ames’s life, and he is absorbed in recording his family’s story, a legacy for the young son he will never see grow up. Haunted by his grandfather’s presence, John tells of the rift between his grandfather and his father: the elder, an angry visionary who fought for the abolitionist cause, and his son, an ardent pacifist. He is troubled, too, by his prodigal namesake, Jack (John Ames) Boughton, his best friend’s lost son who returns to Gilead searching for forgiveness and redemption. Told in John Ames’s joyous, rambling voice that finds beauty, humour and truth in the smallest of life’s details, Gilead is a song of celebration and acceptance of the best and the worst the world has to offer. At its heart is a tale of the sacred bonds between fathers and sons, pitch-perfect in style and story, set to dazzle critics and readers alike.'"
     },
     "execution_count": 5,
     "metadata": {},
     "output_type": "execute_result"
    }
   ],
   "source": [
    "books[\"description\"][0]"
   ],
   "metadata": {
    "collapsed": false,
    "ExecuteTime": {
     "end_time": "2025-06-25T20:34:37.609422400Z",
     "start_time": "2025-06-25T20:34:37.590084900Z"
    }
   },
   "id": "eafc50003b900ca0"
  },
  {
   "cell_type": "code",
   "execution_count": 6,
   "outputs": [
    {
     "data": {
      "text/plain": "[[{'label': 'fear', 'score': 0.654841423034668},\n  {'label': 'neutral', 'score': 0.16985200345516205},\n  {'label': 'sadness', 'score': 0.11640873551368713},\n  {'label': 'surprise', 'score': 0.02070068195462227},\n  {'label': 'disgust', 'score': 0.01910071074962616},\n  {'label': 'joy', 'score': 0.015161264687776566},\n  {'label': 'anger', 'score': 0.003935149405151606}]]"
     },
     "execution_count": 6,
     "metadata": {},
     "output_type": "execute_result"
    }
   ],
   "source": [
    "classifier(books[\"description\"][0])"
   ],
   "metadata": {
    "collapsed": false,
    "ExecuteTime": {
     "end_time": "2025-06-25T20:34:43.062936Z",
     "start_time": "2025-06-25T20:34:42.767651400Z"
    }
   },
   "id": "564393d148ee5e62"
  },
  {
   "cell_type": "code",
   "execution_count": 7,
   "outputs": [
    {
     "data": {
      "text/plain": "[[{'label': 'surprise', 'score': 0.729603111743927},\n  {'label': 'neutral', 'score': 0.1403854489326477},\n  {'label': 'fear', 'score': 0.06816213577985764},\n  {'label': 'joy', 'score': 0.04794233292341232},\n  {'label': 'anger', 'score': 0.009156344458460808},\n  {'label': 'disgust', 'score': 0.002628471702337265},\n  {'label': 'sadness', 'score': 0.0021221584174782038}],\n [{'label': 'neutral', 'score': 0.44937026500701904},\n  {'label': 'disgust', 'score': 0.2735919654369354},\n  {'label': 'joy', 'score': 0.10908275842666626},\n  {'label': 'sadness', 'score': 0.09362739324569702},\n  {'label': 'anger', 'score': 0.040478356182575226},\n  {'label': 'surprise', 'score': 0.02697017416357994},\n  {'label': 'fear', 'score': 0.006879063788801432}],\n [{'label': 'neutral', 'score': 0.6462165117263794},\n  {'label': 'sadness', 'score': 0.24273273348808289},\n  {'label': 'disgust', 'score': 0.04342266917228699},\n  {'label': 'surprise', 'score': 0.02830057218670845},\n  {'label': 'joy', 'score': 0.014211483299732208},\n  {'label': 'fear', 'score': 0.014084122143685818},\n  {'label': 'anger', 'score': 0.011031905189156532}],\n [{'label': 'fear', 'score': 0.9281681180000305},\n  {'label': 'anger', 'score': 0.032190952450037},\n  {'label': 'neutral', 'score': 0.01280870009213686},\n  {'label': 'sadness', 'score': 0.008756873197853565},\n  {'label': 'surprise', 'score': 0.008597931824624538},\n  {'label': 'disgust', 'score': 0.008431834168732166},\n  {'label': 'joy', 'score': 0.0010455826995894313}],\n [{'label': 'sadness', 'score': 0.9671574234962463},\n  {'label': 'neutral', 'score': 0.015104176476597786},\n  {'label': 'disgust', 'score': 0.006480601150542498},\n  {'label': 'fear', 'score': 0.005394001957029104},\n  {'label': 'surprise', 'score': 0.0022869459353387356},\n  {'label': 'anger', 'score': 0.0018428919138386846},\n  {'label': 'joy', 'score': 0.001733881188556552}],\n [{'label': 'joy', 'score': 0.9327967762947083},\n  {'label': 'disgust', 'score': 0.03771806135773659},\n  {'label': 'neutral', 'score': 0.015891993418335915},\n  {'label': 'sadness', 'score': 0.00644456734880805},\n  {'label': 'anger', 'score': 0.0050250450149178505},\n  {'label': 'surprise', 'score': 0.0015812102938070893},\n  {'label': 'fear', 'score': 0.0005423118709586561}],\n [{'label': 'joy', 'score': 0.6528710126876831},\n  {'label': 'neutral', 'score': 0.2542743384838104},\n  {'label': 'surprise', 'score': 0.06808304786682129},\n  {'label': 'sadness', 'score': 0.00990898534655571},\n  {'label': 'disgust', 'score': 0.006512206979095936},\n  {'label': 'anger', 'score': 0.004821315407752991},\n  {'label': 'fear', 'score': 0.003529016859829426}],\n [{'label': 'neutral', 'score': 0.5494768619537354},\n  {'label': 'sadness', 'score': 0.11169016361236572},\n  {'label': 'disgust', 'score': 0.10400664806365967},\n  {'label': 'surprise', 'score': 0.07876549661159515},\n  {'label': 'anger', 'score': 0.06413362920284271},\n  {'label': 'fear', 'score': 0.051362793892621994},\n  {'label': 'joy', 'score': 0.0405643954873085}]]"
     },
     "execution_count": 7,
     "metadata": {},
     "output_type": "execute_result"
    }
   ],
   "source": [
    "classifier(books[\"description\"][0].split(\".\"))"
   ],
   "metadata": {
    "collapsed": false,
    "ExecuteTime": {
     "end_time": "2025-06-25T20:34:54.955620Z",
     "start_time": "2025-06-25T20:34:54.672478900Z"
    }
   },
   "id": "451fdf409613d253"
  },
  {
   "cell_type": "code",
   "execution_count": 8,
   "outputs": [],
   "source": [
    "sentences = books[\"description\"][0].split(\".\")\n",
    "predictions = classifier(sentences)"
   ],
   "metadata": {
    "collapsed": false,
    "ExecuteTime": {
     "end_time": "2025-06-25T20:35:21.731040900Z",
     "start_time": "2025-06-25T20:35:21.483946200Z"
    }
   },
   "id": "9e1858957147afe6"
  },
  {
   "cell_type": "code",
   "execution_count": 9,
   "outputs": [
    {
     "data": {
      "text/plain": "'A NOVEL THAT READERS and critics have been eagerly anticipating for over a decade, Gilead is an astonishingly imagined story of remarkable lives'"
     },
     "execution_count": 9,
     "metadata": {},
     "output_type": "execute_result"
    }
   ],
   "source": [
    "sentences[0]"
   ],
   "metadata": {
    "collapsed": false,
    "ExecuteTime": {
     "end_time": "2025-06-25T20:35:38.806170700Z",
     "start_time": "2025-06-25T20:35:38.756332Z"
    }
   },
   "id": "f31ad1f79c94b12e"
  },
  {
   "cell_type": "code",
   "execution_count": 10,
   "outputs": [
    {
     "data": {
      "text/plain": "[{'label': 'surprise', 'score': 0.729603111743927},\n {'label': 'neutral', 'score': 0.1403854489326477},\n {'label': 'fear', 'score': 0.06816213577985764},\n {'label': 'joy', 'score': 0.04794233292341232},\n {'label': 'anger', 'score': 0.009156344458460808},\n {'label': 'disgust', 'score': 0.002628471702337265},\n {'label': 'sadness', 'score': 0.0021221584174782038}]"
     },
     "execution_count": 10,
     "metadata": {},
     "output_type": "execute_result"
    }
   ],
   "source": [
    "predictions[0]"
   ],
   "metadata": {
    "collapsed": false,
    "ExecuteTime": {
     "end_time": "2025-06-25T20:35:46.181427500Z",
     "start_time": "2025-06-25T20:35:46.165393100Z"
    }
   },
   "id": "57e6c9102a5ede27"
  },
  {
   "cell_type": "code",
   "execution_count": 11,
   "outputs": [
    {
     "data": {
      "text/plain": "' Haunted by his grandfather’s presence, John tells of the rift between his grandfather and his father: the elder, an angry visionary who fought for the abolitionist cause, and his son, an ardent pacifist'"
     },
     "execution_count": 11,
     "metadata": {},
     "output_type": "execute_result"
    }
   ],
   "source": [
    "sentences[3]"
   ],
   "metadata": {
    "collapsed": false,
    "ExecuteTime": {
     "end_time": "2025-06-25T20:35:55.916875200Z",
     "start_time": "2025-06-25T20:35:55.905836Z"
    }
   },
   "id": "a1f77409b6ffbd07"
  },
  {
   "cell_type": "code",
   "execution_count": 13,
   "outputs": [
    {
     "data": {
      "text/plain": "[{'label': 'fear', 'score': 0.9281681180000305},\n {'label': 'anger', 'score': 0.032190952450037},\n {'label': 'neutral', 'score': 0.01280870009213686},\n {'label': 'sadness', 'score': 0.008756873197853565},\n {'label': 'surprise', 'score': 0.008597931824624538},\n {'label': 'disgust', 'score': 0.008431834168732166},\n {'label': 'joy', 'score': 0.0010455826995894313}]"
     },
     "execution_count": 13,
     "metadata": {},
     "output_type": "execute_result"
    }
   ],
   "source": [
    "predictions[3]"
   ],
   "metadata": {
    "collapsed": false,
    "ExecuteTime": {
     "end_time": "2025-06-25T20:38:56.417188600Z",
     "start_time": "2025-06-25T20:38:56.395299300Z"
    }
   },
   "id": "aa506b49e12185aa"
  },
  {
   "cell_type": "code",
   "execution_count": 14,
   "outputs": [
    {
     "data": {
      "text/plain": "[[{'label': 'surprise', 'score': 0.729603111743927},\n  {'label': 'neutral', 'score': 0.1403854489326477},\n  {'label': 'fear', 'score': 0.06816213577985764},\n  {'label': 'joy', 'score': 0.04794233292341232},\n  {'label': 'anger', 'score': 0.009156344458460808},\n  {'label': 'disgust', 'score': 0.002628471702337265},\n  {'label': 'sadness', 'score': 0.0021221584174782038}],\n [{'label': 'neutral', 'score': 0.44937026500701904},\n  {'label': 'disgust', 'score': 0.2735919654369354},\n  {'label': 'joy', 'score': 0.10908275842666626},\n  {'label': 'sadness', 'score': 0.09362739324569702},\n  {'label': 'anger', 'score': 0.040478356182575226},\n  {'label': 'surprise', 'score': 0.02697017416357994},\n  {'label': 'fear', 'score': 0.006879063788801432}],\n [{'label': 'neutral', 'score': 0.6462165117263794},\n  {'label': 'sadness', 'score': 0.24273273348808289},\n  {'label': 'disgust', 'score': 0.04342266917228699},\n  {'label': 'surprise', 'score': 0.02830057218670845},\n  {'label': 'joy', 'score': 0.014211483299732208},\n  {'label': 'fear', 'score': 0.014084122143685818},\n  {'label': 'anger', 'score': 0.011031905189156532}],\n [{'label': 'fear', 'score': 0.9281681180000305},\n  {'label': 'anger', 'score': 0.032190952450037},\n  {'label': 'neutral', 'score': 0.01280870009213686},\n  {'label': 'sadness', 'score': 0.008756873197853565},\n  {'label': 'surprise', 'score': 0.008597931824624538},\n  {'label': 'disgust', 'score': 0.008431834168732166},\n  {'label': 'joy', 'score': 0.0010455826995894313}],\n [{'label': 'sadness', 'score': 0.9671574234962463},\n  {'label': 'neutral', 'score': 0.015104176476597786},\n  {'label': 'disgust', 'score': 0.006480601150542498},\n  {'label': 'fear', 'score': 0.005394001957029104},\n  {'label': 'surprise', 'score': 0.0022869459353387356},\n  {'label': 'anger', 'score': 0.0018428919138386846},\n  {'label': 'joy', 'score': 0.001733881188556552}],\n [{'label': 'joy', 'score': 0.9327967762947083},\n  {'label': 'disgust', 'score': 0.03771806135773659},\n  {'label': 'neutral', 'score': 0.015891993418335915},\n  {'label': 'sadness', 'score': 0.00644456734880805},\n  {'label': 'anger', 'score': 0.0050250450149178505},\n  {'label': 'surprise', 'score': 0.0015812102938070893},\n  {'label': 'fear', 'score': 0.0005423118709586561}],\n [{'label': 'joy', 'score': 0.6528710126876831},\n  {'label': 'neutral', 'score': 0.2542743384838104},\n  {'label': 'surprise', 'score': 0.06808304786682129},\n  {'label': 'sadness', 'score': 0.00990898534655571},\n  {'label': 'disgust', 'score': 0.006512206979095936},\n  {'label': 'anger', 'score': 0.004821315407752991},\n  {'label': 'fear', 'score': 0.003529016859829426}],\n [{'label': 'neutral', 'score': 0.5494768619537354},\n  {'label': 'sadness', 'score': 0.11169016361236572},\n  {'label': 'disgust', 'score': 0.10400664806365967},\n  {'label': 'surprise', 'score': 0.07876549661159515},\n  {'label': 'anger', 'score': 0.06413362920284271},\n  {'label': 'fear', 'score': 0.051362793892621994},\n  {'label': 'joy', 'score': 0.0405643954873085}]]"
     },
     "execution_count": 14,
     "metadata": {},
     "output_type": "execute_result"
    }
   ],
   "source": [
    "predictions"
   ],
   "metadata": {
    "collapsed": false,
    "ExecuteTime": {
     "end_time": "2025-06-25T20:39:02.610341300Z",
     "start_time": "2025-06-25T20:39:02.591782800Z"
    }
   },
   "id": "d943b2516f5a2eda"
  },
  {
   "cell_type": "code",
   "execution_count": 15,
   "outputs": [
    {
     "data": {
      "text/plain": "[{'label': 'anger', 'score': 0.009156344458460808},\n {'label': 'disgust', 'score': 0.002628471702337265},\n {'label': 'fear', 'score': 0.06816213577985764},\n {'label': 'joy', 'score': 0.04794233292341232},\n {'label': 'neutral', 'score': 0.1403854489326477},\n {'label': 'sadness', 'score': 0.0021221584174782038},\n {'label': 'surprise', 'score': 0.729603111743927}]"
     },
     "execution_count": 15,
     "metadata": {},
     "output_type": "execute_result"
    }
   ],
   "source": [
    "sorted(predictions[0], key=lambda x: x[\"label\"])"
   ],
   "metadata": {
    "collapsed": false,
    "ExecuteTime": {
     "end_time": "2025-06-25T20:41:15.447927300Z",
     "start_time": "2025-06-25T20:41:15.404378400Z"
    }
   },
   "id": "d1373732be5cbd0d"
  },
  {
   "cell_type": "code",
   "execution_count": 16,
   "outputs": [],
   "source": [
    "import numpy as np\n",
    "\n",
    "emotion_labels = [\"anger\", \"disgust\", \"fear\", \"joy\", \"sadness\", \"surprise\", \"neutral\"]\n",
    "isbn = []\n",
    "emotion_scores = {label: [] for label in emotion_labels}\n",
    "\n",
    "def calculate_max_emotion_scores(predictions):\n",
    "    per_emotion_scores = {label: [] for label in emotion_labels}\n",
    "    for prediction in predictions:\n",
    "        sorted_predictions = sorted(prediction, key=lambda x: x[\"label\"])\n",
    "        for index, label in enumerate(emotion_labels):\n",
    "            per_emotion_scores[label].append(sorted_predictions[index][\"score\"])\n",
    "    return {label: np.max(scores) for label, scores in per_emotion_scores.items()}"
   ],
   "metadata": {
    "collapsed": false,
    "ExecuteTime": {
     "end_time": "2025-06-25T20:41:33.767427600Z",
     "start_time": "2025-06-25T20:41:33.748914500Z"
    }
   },
   "id": "7ca57f3a22dcb8b9"
  },
  {
   "cell_type": "code",
   "execution_count": 17,
   "outputs": [
    {
     "name": "stderr",
     "output_type": "stream",
     "text": [
      "You seem to be using the pipelines sequentially on GPU. In order to maximize efficiency please use a dataset\n"
     ]
    }
   ],
   "source": [
    "for i in range(10):\n",
    "    isbn.append(books[\"isbn13\"][i])\n",
    "    sentences = books[\"description\"][i].split(\".\")\n",
    "    predictions = classifier(sentences)\n",
    "    max_scores = calculate_max_emotion_scores(predictions)\n",
    "    for label in emotion_labels:\n",
    "        emotion_scores[label].append(max_scores[label])"
   ],
   "metadata": {
    "collapsed": false,
    "ExecuteTime": {
     "end_time": "2025-06-25T20:41:44.031015600Z",
     "start_time": "2025-06-25T20:41:42.914728400Z"
    }
   },
   "id": "b84563fc7379f7d4"
  },
  {
   "cell_type": "code",
   "execution_count": 18,
   "outputs": [
    {
     "data": {
      "text/plain": "{'anger': [np.float64(0.06413362920284271),\n  np.float64(0.6126192808151245),\n  np.float64(0.06413362920284271),\n  np.float64(0.3514832854270935),\n  np.float64(0.08141228556632996),\n  np.float64(0.23222456872463226),\n  np.float64(0.538183867931366),\n  np.float64(0.06413362920284271),\n  np.float64(0.06413362920284271),\n  np.float64(0.30066993832588196)],\n 'disgust': [np.float64(0.2735919654369354),\n  np.float64(0.34828487038612366),\n  np.float64(0.10400664806365967),\n  np.float64(0.15072259306907654),\n  np.float64(0.1844952255487442),\n  np.float64(0.7271750569343567),\n  np.float64(0.15585491061210632),\n  np.float64(0.10400664806365967),\n  np.float64(0.10400664806365967),\n  np.float64(0.2794812023639679)],\n 'fear': [np.float64(0.9281681180000305),\n  np.float64(0.9425276517868042),\n  np.float64(0.9723208546638489),\n  np.float64(0.3607068955898285),\n  np.float64(0.09504345059394836),\n  np.float64(0.051362793892621994),\n  np.float64(0.7474285960197449),\n  np.float64(0.404495507478714),\n  np.float64(0.051362793892621994),\n  np.float64(0.9155241250991821)],\n 'joy': [np.float64(0.9327967762947083),\n  np.float64(0.7044207453727722),\n  np.float64(0.7672362923622131),\n  np.float64(0.2518809139728546),\n  np.float64(0.0405643954873085),\n  np.float64(0.043375905603170395),\n  np.float64(0.8725650906562805),\n  np.float64(0.0405643954873085),\n  np.float64(0.21310266852378845),\n  np.float64(0.0405643954873085)],\n 'sadness': [np.float64(0.6462165117263794),\n  np.float64(0.8879395127296448),\n  np.float64(0.5494768619537354),\n  np.float64(0.7326852083206177),\n  np.float64(0.8843895196914673),\n  np.float64(0.6213922500610352),\n  np.float64(0.712194561958313),\n  np.float64(0.5494768619537354),\n  np.float64(0.6980558037757874),\n  np.float64(0.8402894735336304)],\n 'surprise': [np.float64(0.9671574234962463),\n  np.float64(0.11169016361236572),\n  np.float64(0.11169016361236572),\n  np.float64(0.11169016361236572),\n  np.float64(0.4758806526660919),\n  np.float64(0.11169016361236572),\n  np.float64(0.40800023078918457),\n  np.float64(0.8202824592590332),\n  np.float64(0.11169016361236572),\n  np.float64(0.35445937514305115)],\n 'neutral': [np.float64(0.729603111743927),\n  np.float64(0.2525446116924286),\n  np.float64(0.07876549661159515),\n  np.float64(0.07876549661159515),\n  np.float64(0.07876549661159515),\n  np.float64(0.2719031870365143),\n  np.float64(0.07876549661159515),\n  np.float64(0.23448754847049713),\n  np.float64(0.07876549661159515),\n  np.float64(0.13561415672302246)]}"
     },
     "execution_count": 18,
     "metadata": {},
     "output_type": "execute_result"
    }
   ],
   "source": [
    "emotion_scores"
   ],
   "metadata": {
    "collapsed": false,
    "ExecuteTime": {
     "end_time": "2025-06-25T20:41:54.374170300Z",
     "start_time": "2025-06-25T20:41:54.358458Z"
    }
   },
   "id": "1befa6c791f145e7"
  },
  {
   "cell_type": "code",
   "execution_count": 19,
   "outputs": [
    {
     "name": "stderr",
     "output_type": "stream",
     "text": [
      "100%|██████████| 6144/6144 [02:55<00:00, 35.02it/s]\n"
     ]
    }
   ],
   "source": [
    "from tqdm import tqdm\n",
    "\n",
    "emotion_labels = [\"anger\", \"disgust\", \"fear\", \"joy\", \"sadness\", \"surprise\", \"neutral\"]\n",
    "isbn = []\n",
    "emotion_scores = {label: [] for label in emotion_labels}\n",
    "\n",
    "for i in tqdm(range(len(books))):\n",
    "    isbn.append(books[\"isbn13\"][i])\n",
    "    sentences = books[\"description\"][i].split(\".\")\n",
    "    predictions = classifier(sentences)\n",
    "    max_scores = calculate_max_emotion_scores(predictions)\n",
    "    for label in emotion_labels:\n",
    "        emotion_scores[label].append(max_scores[label])"
   ],
   "metadata": {
    "collapsed": false,
    "ExecuteTime": {
     "end_time": "2025-06-25T20:45:12.399475100Z",
     "start_time": "2025-06-25T20:42:16.943452200Z"
    }
   },
   "id": "9787fc0b91add140"
  },
  {
   "cell_type": "code",
   "execution_count": 20,
   "outputs": [],
   "source": [
    "emotions_df = pd.DataFrame(emotion_scores)\n",
    "emotions_df[\"isbn13\"] = isbn"
   ],
   "metadata": {
    "collapsed": false,
    "ExecuteTime": {
     "end_time": "2025-06-25T21:05:07.950673100Z",
     "start_time": "2025-06-25T21:05:07.912362900Z"
    }
   },
   "id": "825a2d6bdf015cec"
  },
  {
   "cell_type": "code",
   "execution_count": 21,
   "outputs": [
    {
     "data": {
      "text/plain": "         anger   disgust      fear       joy   sadness  surprise   neutral  \\\n0     0.064134  0.273592  0.928168  0.932797  0.646217  0.967157  0.729603   \n1     0.612619  0.348285  0.942528  0.704421  0.887940  0.111690  0.252545   \n2     0.064134  0.104007  0.972321  0.767236  0.549477  0.111690  0.078765   \n3     0.351483  0.150723  0.360707  0.251881  0.732685  0.111690  0.078765   \n4     0.081412  0.184495  0.095043  0.040564  0.884390  0.475881  0.078765   \n...        ...       ...       ...       ...       ...       ...       ...   \n6139  0.064134  0.114383  0.051363  0.400263  0.883198  0.111690  0.227764   \n6140  0.009997  0.009929  0.339218  0.947779  0.375755  0.066685  0.057625   \n6141  0.064134  0.104007  0.459270  0.759456  0.951104  0.368111  0.078765   \n6142  0.064134  0.104007  0.051363  0.958549  0.915193  0.111690  0.078765   \n6143  0.064134  0.104007  0.051363  0.991484  0.549477  0.111690  0.078765   \n\n             isbn13  \n0     9780002005883  \n1     9780002261982  \n2     9780006178736  \n3     9780006280897  \n4     9780006280934  \n...             ...  \n6139  9788173031014  \n6140  9788179921623  \n6141  9788185300535  \n6142  9789027712059  \n6143  9789042003408  \n\n[6144 rows x 8 columns]",
      "text/html": "<div>\n<style scoped>\n    .dataframe tbody tr th:only-of-type {\n        vertical-align: middle;\n    }\n\n    .dataframe tbody tr th {\n        vertical-align: top;\n    }\n\n    .dataframe thead th {\n        text-align: right;\n    }\n</style>\n<table border=\"1\" class=\"dataframe\">\n  <thead>\n    <tr style=\"text-align: right;\">\n      <th></th>\n      <th>anger</th>\n      <th>disgust</th>\n      <th>fear</th>\n      <th>joy</th>\n      <th>sadness</th>\n      <th>surprise</th>\n      <th>neutral</th>\n      <th>isbn13</th>\n    </tr>\n  </thead>\n  <tbody>\n    <tr>\n      <th>0</th>\n      <td>0.064134</td>\n      <td>0.273592</td>\n      <td>0.928168</td>\n      <td>0.932797</td>\n      <td>0.646217</td>\n      <td>0.967157</td>\n      <td>0.729603</td>\n      <td>9780002005883</td>\n    </tr>\n    <tr>\n      <th>1</th>\n      <td>0.612619</td>\n      <td>0.348285</td>\n      <td>0.942528</td>\n      <td>0.704421</td>\n      <td>0.887940</td>\n      <td>0.111690</td>\n      <td>0.252545</td>\n      <td>9780002261982</td>\n    </tr>\n    <tr>\n      <th>2</th>\n      <td>0.064134</td>\n      <td>0.104007</td>\n      <td>0.972321</td>\n      <td>0.767236</td>\n      <td>0.549477</td>\n      <td>0.111690</td>\n      <td>0.078765</td>\n      <td>9780006178736</td>\n    </tr>\n    <tr>\n      <th>3</th>\n      <td>0.351483</td>\n      <td>0.150723</td>\n      <td>0.360707</td>\n      <td>0.251881</td>\n      <td>0.732685</td>\n      <td>0.111690</td>\n      <td>0.078765</td>\n      <td>9780006280897</td>\n    </tr>\n    <tr>\n      <th>4</th>\n      <td>0.081412</td>\n      <td>0.184495</td>\n      <td>0.095043</td>\n      <td>0.040564</td>\n      <td>0.884390</td>\n      <td>0.475881</td>\n      <td>0.078765</td>\n      <td>9780006280934</td>\n    </tr>\n    <tr>\n      <th>...</th>\n      <td>...</td>\n      <td>...</td>\n      <td>...</td>\n      <td>...</td>\n      <td>...</td>\n      <td>...</td>\n      <td>...</td>\n      <td>...</td>\n    </tr>\n    <tr>\n      <th>6139</th>\n      <td>0.064134</td>\n      <td>0.114383</td>\n      <td>0.051363</td>\n      <td>0.400263</td>\n      <td>0.883198</td>\n      <td>0.111690</td>\n      <td>0.227764</td>\n      <td>9788173031014</td>\n    </tr>\n    <tr>\n      <th>6140</th>\n      <td>0.009997</td>\n      <td>0.009929</td>\n      <td>0.339218</td>\n      <td>0.947779</td>\n      <td>0.375755</td>\n      <td>0.066685</td>\n      <td>0.057625</td>\n      <td>9788179921623</td>\n    </tr>\n    <tr>\n      <th>6141</th>\n      <td>0.064134</td>\n      <td>0.104007</td>\n      <td>0.459270</td>\n      <td>0.759456</td>\n      <td>0.951104</td>\n      <td>0.368111</td>\n      <td>0.078765</td>\n      <td>9788185300535</td>\n    </tr>\n    <tr>\n      <th>6142</th>\n      <td>0.064134</td>\n      <td>0.104007</td>\n      <td>0.051363</td>\n      <td>0.958549</td>\n      <td>0.915193</td>\n      <td>0.111690</td>\n      <td>0.078765</td>\n      <td>9789027712059</td>\n    </tr>\n    <tr>\n      <th>6143</th>\n      <td>0.064134</td>\n      <td>0.104007</td>\n      <td>0.051363</td>\n      <td>0.991484</td>\n      <td>0.549477</td>\n      <td>0.111690</td>\n      <td>0.078765</td>\n      <td>9789042003408</td>\n    </tr>\n  </tbody>\n</table>\n<p>6144 rows × 8 columns</p>\n</div>"
     },
     "execution_count": 21,
     "metadata": {},
     "output_type": "execute_result"
    }
   ],
   "source": [
    "emotions_df"
   ],
   "metadata": {
    "collapsed": false,
    "ExecuteTime": {
     "end_time": "2025-06-25T21:05:15.856221100Z",
     "start_time": "2025-06-25T21:05:15.822279900Z"
    }
   },
   "id": "cc5984d046e50ef3"
  },
  {
   "cell_type": "code",
   "execution_count": 22,
   "outputs": [],
   "source": [
    "books = pd.merge(books, emotions_df, on = \"isbn13\")"
   ],
   "metadata": {
    "collapsed": false,
    "ExecuteTime": {
     "end_time": "2025-06-25T21:06:04.684886700Z",
     "start_time": "2025-06-25T21:06:04.623600500Z"
    }
   },
   "id": "9f57fdbf4f0e39cf"
  },
  {
   "cell_type": "code",
   "execution_count": 23,
   "outputs": [
    {
     "data": {
      "text/plain": "             isbn13      isbn10  \\\n0     9780002005883  0002005883   \n1     9780002261982  0002261987   \n2     9780006178736  0006178731   \n3     9780006280897  0006280897   \n4     9780006280934  0006280935   \n...             ...         ...   \n6139  9788173031014  8173031010   \n6140  9788179921623  817992162X   \n6141  9788185300535  8185300534   \n6142  9789027712059  9027712050   \n6143  9789042003408  9042003405   \n\n                                                  title  \\\n0                                                Gilead   \n1                                          Spider's Web   \n2                                        Rage of angels   \n3                                        The Four Loves   \n4                                   The Problem of Pain   \n...                                                 ...   \n6139                                Journey to the East   \n6140  The Monk Who Sold His Ferrari: A Fable About F...   \n6141                                          I Am that   \n6142                           The Berlin Phenomenology   \n6143                          'I'm Telling You Stories'   \n\n                                           authors  \\\n0                               Marilynne Robinson   \n1                  Charles Osborne;Agatha Christie   \n2                                   Sidney Sheldon   \n3                              Clive Staples Lewis   \n4                              Clive Staples Lewis   \n...                                            ...   \n6139                                 Hermann Hesse   \n6140                                  Robin Sharma   \n6141  Sri Nisargadatta Maharaj;Sudhakar S. Dikshit   \n6142                 Georg Wilhelm Friedrich Hegel   \n6143                        Helena Grice;Tim Woods   \n\n                         categories  \\\n0                           Fiction   \n1     Detective and mystery stories   \n2                           Fiction   \n3                    Christian life   \n4                    Christian life   \n...                             ...   \n6139              Adventure stories   \n6140               Health & Fitness   \n6141                     Philosophy   \n6142                        History   \n6143             Literary Criticism   \n\n                                              thumbnail  \\\n0     http://books.google.com/books/content?id=KQZCP...   \n1     http://books.google.com/books/content?id=gA5GP...   \n2     http://books.google.com/books/content?id=FKo2T...   \n3     http://books.google.com/books/content?id=XhQ5X...   \n4     http://books.google.com/books/content?id=Kk-uV...   \n...                                                 ...   \n6139  http://books.google.com/books/content?id=rq6JP...   \n6140  http://books.google.com/books/content?id=c_7mf...   \n6141  http://books.google.com/books/content?id=Fv_JP...   \n6142  http://books.google.com/books/content?id=Vy7Sk...   \n6143  http://books.google.com/books/content?id=2lVyR...   \n\n                                            description  published_year  \\\n0     A NOVEL THAT READERS and critics have been eag...          2004.0   \n1     A new 'Christie for Christmas' -- a full-lengt...          2000.0   \n2     A memorable, mesmerizing heroine Jennifer -- b...          1993.0   \n3     Lewis' work on the nature of love divides love...          2002.0   \n4     \"In The Problem of Pain, C.S. Lewis, one of th...          2002.0   \n...                                                 ...             ...   \n6139  This book tells the tale of a man who goes on ...          2002.0   \n6140  Wisdom to Create a Life of Passion, Purpose, a...          2003.0   \n6141  This collection of the timeless teachings of o...          1999.0   \n6142  Since the three volume edition ofHegel's Philo...          1981.0   \n6143  This is a jubilant and rewarding collection of...          1998.0   \n\n      average_rating  num_pages  ...  \\\n0               3.85      247.0  ...   \n1               3.83      241.0  ...   \n2               3.93      512.0  ...   \n3               4.15      170.0  ...   \n4               4.09      176.0  ...   \n...              ...        ...  ...   \n6139            3.70      175.0  ...   \n6140            3.82      198.0  ...   \n6141            4.51      531.0  ...   \n6142            0.00      210.0  ...   \n6143            3.70      136.0  ...   \n\n                                     title_and_subtitle  \\\n0                                                Gilead   \n1                                 Spider's Web: A Novel   \n2                                        Rage of angels   \n3                                        The Four Loves   \n4                                   The Problem of Pain   \n...                                                 ...   \n6139                                Journey to the East   \n6140  The Monk Who Sold His Ferrari: A Fable About F...   \n6141     I Am that: Talks with Sri Nisargadatta Maharaj   \n6142                           The Berlin Phenomenology   \n6143  'I'm Telling You Stories': Jeanette Winterson ...   \n\n                                     tagged_description simple_categories  \\\n0     9780002005883 A NOVEL THAT READERS and critics...           Fiction   \n1     9780002261982 A new 'Christie for Christmas' -...           Fiction   \n2     9780006178736 A memorable, mesmerizing heroine...           Fiction   \n3     9780006280897 Lewis' work on the nature of lov...        Nonfiction   \n4     9780006280934 \"In The Problem of Pain, C.S. Le...        Nonfiction   \n...                                                 ...               ...   \n6139  9788173031014 This book tells the tale of a ma...        Nonfiction   \n6140  9788179921623 Wisdom to Create a Life of Passi...           Fiction   \n6141  9788185300535 This collection of the timeless ...        Nonfiction   \n6142  9789027712059 Since the three volume edition o...        Nonfiction   \n6143  9789042003408 This is a jubilant and rewarding...        Nonfiction   \n\n         anger   disgust      fear       joy   sadness  surprise   neutral  \n0     0.064134  0.273592  0.928168  0.932797  0.646217  0.967157  0.729603  \n1     0.612619  0.348285  0.942528  0.704421  0.887940  0.111690  0.252545  \n2     0.064134  0.104007  0.972321  0.767236  0.549477  0.111690  0.078765  \n3     0.351483  0.150723  0.360707  0.251881  0.732685  0.111690  0.078765  \n4     0.081412  0.184495  0.095043  0.040564  0.884390  0.475881  0.078765  \n...        ...       ...       ...       ...       ...       ...       ...  \n6139  0.064134  0.114383  0.051363  0.400263  0.883198  0.111690  0.227764  \n6140  0.009997  0.009929  0.339218  0.947779  0.375755  0.066685  0.057625  \n6141  0.064134  0.104007  0.459270  0.759456  0.951104  0.368111  0.078765  \n6142  0.064134  0.104007  0.051363  0.958549  0.915193  0.111690  0.078765  \n6143  0.064134  0.104007  0.051363  0.991484  0.549477  0.111690  0.078765  \n\n[6144 rows x 21 columns]",
      "text/html": "<div>\n<style scoped>\n    .dataframe tbody tr th:only-of-type {\n        vertical-align: middle;\n    }\n\n    .dataframe tbody tr th {\n        vertical-align: top;\n    }\n\n    .dataframe thead th {\n        text-align: right;\n    }\n</style>\n<table border=\"1\" class=\"dataframe\">\n  <thead>\n    <tr style=\"text-align: right;\">\n      <th></th>\n      <th>isbn13</th>\n      <th>isbn10</th>\n      <th>title</th>\n      <th>authors</th>\n      <th>categories</th>\n      <th>thumbnail</th>\n      <th>description</th>\n      <th>published_year</th>\n      <th>average_rating</th>\n      <th>num_pages</th>\n      <th>...</th>\n      <th>title_and_subtitle</th>\n      <th>tagged_description</th>\n      <th>simple_categories</th>\n      <th>anger</th>\n      <th>disgust</th>\n      <th>fear</th>\n      <th>joy</th>\n      <th>sadness</th>\n      <th>surprise</th>\n      <th>neutral</th>\n    </tr>\n  </thead>\n  <tbody>\n    <tr>\n      <th>0</th>\n      <td>9780002005883</td>\n      <td>0002005883</td>\n      <td>Gilead</td>\n      <td>Marilynne Robinson</td>\n      <td>Fiction</td>\n      <td>http://books.google.com/books/content?id=KQZCP...</td>\n      <td>A NOVEL THAT READERS and critics have been eag...</td>\n      <td>2004.0</td>\n      <td>3.85</td>\n      <td>247.0</td>\n      <td>...</td>\n      <td>Gilead</td>\n      <td>9780002005883 A NOVEL THAT READERS and critics...</td>\n      <td>Fiction</td>\n      <td>0.064134</td>\n      <td>0.273592</td>\n      <td>0.928168</td>\n      <td>0.932797</td>\n      <td>0.646217</td>\n      <td>0.967157</td>\n      <td>0.729603</td>\n    </tr>\n    <tr>\n      <th>1</th>\n      <td>9780002261982</td>\n      <td>0002261987</td>\n      <td>Spider's Web</td>\n      <td>Charles Osborne;Agatha Christie</td>\n      <td>Detective and mystery stories</td>\n      <td>http://books.google.com/books/content?id=gA5GP...</td>\n      <td>A new 'Christie for Christmas' -- a full-lengt...</td>\n      <td>2000.0</td>\n      <td>3.83</td>\n      <td>241.0</td>\n      <td>...</td>\n      <td>Spider's Web: A Novel</td>\n      <td>9780002261982 A new 'Christie for Christmas' -...</td>\n      <td>Fiction</td>\n      <td>0.612619</td>\n      <td>0.348285</td>\n      <td>0.942528</td>\n      <td>0.704421</td>\n      <td>0.887940</td>\n      <td>0.111690</td>\n      <td>0.252545</td>\n    </tr>\n    <tr>\n      <th>2</th>\n      <td>9780006178736</td>\n      <td>0006178731</td>\n      <td>Rage of angels</td>\n      <td>Sidney Sheldon</td>\n      <td>Fiction</td>\n      <td>http://books.google.com/books/content?id=FKo2T...</td>\n      <td>A memorable, mesmerizing heroine Jennifer -- b...</td>\n      <td>1993.0</td>\n      <td>3.93</td>\n      <td>512.0</td>\n      <td>...</td>\n      <td>Rage of angels</td>\n      <td>9780006178736 A memorable, mesmerizing heroine...</td>\n      <td>Fiction</td>\n      <td>0.064134</td>\n      <td>0.104007</td>\n      <td>0.972321</td>\n      <td>0.767236</td>\n      <td>0.549477</td>\n      <td>0.111690</td>\n      <td>0.078765</td>\n    </tr>\n    <tr>\n      <th>3</th>\n      <td>9780006280897</td>\n      <td>0006280897</td>\n      <td>The Four Loves</td>\n      <td>Clive Staples Lewis</td>\n      <td>Christian life</td>\n      <td>http://books.google.com/books/content?id=XhQ5X...</td>\n      <td>Lewis' work on the nature of love divides love...</td>\n      <td>2002.0</td>\n      <td>4.15</td>\n      <td>170.0</td>\n      <td>...</td>\n      <td>The Four Loves</td>\n      <td>9780006280897 Lewis' work on the nature of lov...</td>\n      <td>Nonfiction</td>\n      <td>0.351483</td>\n      <td>0.150723</td>\n      <td>0.360707</td>\n      <td>0.251881</td>\n      <td>0.732685</td>\n      <td>0.111690</td>\n      <td>0.078765</td>\n    </tr>\n    <tr>\n      <th>4</th>\n      <td>9780006280934</td>\n      <td>0006280935</td>\n      <td>The Problem of Pain</td>\n      <td>Clive Staples Lewis</td>\n      <td>Christian life</td>\n      <td>http://books.google.com/books/content?id=Kk-uV...</td>\n      <td>\"In The Problem of Pain, C.S. Lewis, one of th...</td>\n      <td>2002.0</td>\n      <td>4.09</td>\n      <td>176.0</td>\n      <td>...</td>\n      <td>The Problem of Pain</td>\n      <td>9780006280934 \"In The Problem of Pain, C.S. Le...</td>\n      <td>Nonfiction</td>\n      <td>0.081412</td>\n      <td>0.184495</td>\n      <td>0.095043</td>\n      <td>0.040564</td>\n      <td>0.884390</td>\n      <td>0.475881</td>\n      <td>0.078765</td>\n    </tr>\n    <tr>\n      <th>...</th>\n      <td>...</td>\n      <td>...</td>\n      <td>...</td>\n      <td>...</td>\n      <td>...</td>\n      <td>...</td>\n      <td>...</td>\n      <td>...</td>\n      <td>...</td>\n      <td>...</td>\n      <td>...</td>\n      <td>...</td>\n      <td>...</td>\n      <td>...</td>\n      <td>...</td>\n      <td>...</td>\n      <td>...</td>\n      <td>...</td>\n      <td>...</td>\n      <td>...</td>\n      <td>...</td>\n    </tr>\n    <tr>\n      <th>6139</th>\n      <td>9788173031014</td>\n      <td>8173031010</td>\n      <td>Journey to the East</td>\n      <td>Hermann Hesse</td>\n      <td>Adventure stories</td>\n      <td>http://books.google.com/books/content?id=rq6JP...</td>\n      <td>This book tells the tale of a man who goes on ...</td>\n      <td>2002.0</td>\n      <td>3.70</td>\n      <td>175.0</td>\n      <td>...</td>\n      <td>Journey to the East</td>\n      <td>9788173031014 This book tells the tale of a ma...</td>\n      <td>Nonfiction</td>\n      <td>0.064134</td>\n      <td>0.114383</td>\n      <td>0.051363</td>\n      <td>0.400263</td>\n      <td>0.883198</td>\n      <td>0.111690</td>\n      <td>0.227764</td>\n    </tr>\n    <tr>\n      <th>6140</th>\n      <td>9788179921623</td>\n      <td>817992162X</td>\n      <td>The Monk Who Sold His Ferrari: A Fable About F...</td>\n      <td>Robin Sharma</td>\n      <td>Health &amp; Fitness</td>\n      <td>http://books.google.com/books/content?id=c_7mf...</td>\n      <td>Wisdom to Create a Life of Passion, Purpose, a...</td>\n      <td>2003.0</td>\n      <td>3.82</td>\n      <td>198.0</td>\n      <td>...</td>\n      <td>The Monk Who Sold His Ferrari: A Fable About F...</td>\n      <td>9788179921623 Wisdom to Create a Life of Passi...</td>\n      <td>Fiction</td>\n      <td>0.009997</td>\n      <td>0.009929</td>\n      <td>0.339218</td>\n      <td>0.947779</td>\n      <td>0.375755</td>\n      <td>0.066685</td>\n      <td>0.057625</td>\n    </tr>\n    <tr>\n      <th>6141</th>\n      <td>9788185300535</td>\n      <td>8185300534</td>\n      <td>I Am that</td>\n      <td>Sri Nisargadatta Maharaj;Sudhakar S. Dikshit</td>\n      <td>Philosophy</td>\n      <td>http://books.google.com/books/content?id=Fv_JP...</td>\n      <td>This collection of the timeless teachings of o...</td>\n      <td>1999.0</td>\n      <td>4.51</td>\n      <td>531.0</td>\n      <td>...</td>\n      <td>I Am that: Talks with Sri Nisargadatta Maharaj</td>\n      <td>9788185300535 This collection of the timeless ...</td>\n      <td>Nonfiction</td>\n      <td>0.064134</td>\n      <td>0.104007</td>\n      <td>0.459270</td>\n      <td>0.759456</td>\n      <td>0.951104</td>\n      <td>0.368111</td>\n      <td>0.078765</td>\n    </tr>\n    <tr>\n      <th>6142</th>\n      <td>9789027712059</td>\n      <td>9027712050</td>\n      <td>The Berlin Phenomenology</td>\n      <td>Georg Wilhelm Friedrich Hegel</td>\n      <td>History</td>\n      <td>http://books.google.com/books/content?id=Vy7Sk...</td>\n      <td>Since the three volume edition ofHegel's Philo...</td>\n      <td>1981.0</td>\n      <td>0.00</td>\n      <td>210.0</td>\n      <td>...</td>\n      <td>The Berlin Phenomenology</td>\n      <td>9789027712059 Since the three volume edition o...</td>\n      <td>Nonfiction</td>\n      <td>0.064134</td>\n      <td>0.104007</td>\n      <td>0.051363</td>\n      <td>0.958549</td>\n      <td>0.915193</td>\n      <td>0.111690</td>\n      <td>0.078765</td>\n    </tr>\n    <tr>\n      <th>6143</th>\n      <td>9789042003408</td>\n      <td>9042003405</td>\n      <td>'I'm Telling You Stories'</td>\n      <td>Helena Grice;Tim Woods</td>\n      <td>Literary Criticism</td>\n      <td>http://books.google.com/books/content?id=2lVyR...</td>\n      <td>This is a jubilant and rewarding collection of...</td>\n      <td>1998.0</td>\n      <td>3.70</td>\n      <td>136.0</td>\n      <td>...</td>\n      <td>'I'm Telling You Stories': Jeanette Winterson ...</td>\n      <td>9789042003408 This is a jubilant and rewarding...</td>\n      <td>Nonfiction</td>\n      <td>0.064134</td>\n      <td>0.104007</td>\n      <td>0.051363</td>\n      <td>0.991484</td>\n      <td>0.549477</td>\n      <td>0.111690</td>\n      <td>0.078765</td>\n    </tr>\n  </tbody>\n</table>\n<p>6144 rows × 21 columns</p>\n</div>"
     },
     "execution_count": 23,
     "metadata": {},
     "output_type": "execute_result"
    }
   ],
   "source": [
    "books"
   ],
   "metadata": {
    "collapsed": false,
    "ExecuteTime": {
     "end_time": "2025-06-25T21:06:11.131978900Z",
     "start_time": "2025-06-25T21:06:11.079176500Z"
    }
   },
   "id": "9c582ebed7822479"
  },
  {
   "cell_type": "code",
   "execution_count": 24,
   "outputs": [],
   "source": [
    "books.to_csv(\"books_with_emotions.csv\", index = False)"
   ],
   "metadata": {
    "collapsed": false,
    "ExecuteTime": {
     "end_time": "2025-06-25T21:06:40.831365800Z",
     "start_time": "2025-06-25T21:06:40.544861500Z"
    }
   },
   "id": "7fb7be28f4b036d4"
  },
  {
   "cell_type": "code",
   "execution_count": null,
   "outputs": [],
   "source": [],
   "metadata": {
    "collapsed": false
   },
   "id": "471a8c72a91b951"
  }
 ],
 "metadata": {
  "kernelspec": {
   "name": "gpu-pytorch",
   "language": "python",
   "display_name": "Python (GPU PyTorch)"
  },
  "language_info": {
   "codemirror_mode": {
    "name": "ipython",
    "version": 2
   },
   "file_extension": ".py",
   "mimetype": "text/x-python",
   "name": "python",
   "nbconvert_exporter": "python",
   "pygments_lexer": "ipython2",
   "version": "2.7.6"
  }
 },
 "nbformat": 4,
 "nbformat_minor": 5
}
