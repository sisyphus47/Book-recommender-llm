{
 "cells": [
  {
   "cell_type": "code",
   "execution_count": null,
   "id": "initial_id",
   "metadata": {
    "collapsed": true
   },
   "outputs": [],
   "source": []
  },
  {
   "cell_type": "code",
   "execution_count": 6,
   "outputs": [],
   "source": [
    "import pandas as pd\n",
    "\n",
    "books = pd.read_csv(\"books_cleaned.csv\")"
   ],
   "metadata": {
    "collapsed": false,
    "ExecuteTime": {
     "end_time": "2025-06-25T20:10:38.832886800Z",
     "start_time": "2025-06-25T20:10:38.739741400Z"
    }
   },
   "id": "bf191f5b9d1df47c"
  },
  {
   "cell_type": "code",
   "execution_count": 7,
   "outputs": [
    {
     "data": {
      "text/plain": "                               categories  count\n0                                 Fiction   2415\n1                        Juvenile Fiction    503\n2               Biography & Autobiography    371\n3                                 History    245\n4                      Literary Criticism    149\n..                                    ...    ...\n508                            Meditation      1\n509                               Gay men      1\n510                     Christian fiction      1\n511            Napoleonic Wars, 1800-1815      1\n512  Bumppo, Natty (Fictitious character)      1\n\n[513 rows x 2 columns]",
      "text/html": "<div>\n<style scoped>\n    .dataframe tbody tr th:only-of-type {\n        vertical-align: middle;\n    }\n\n    .dataframe tbody tr th {\n        vertical-align: top;\n    }\n\n    .dataframe thead th {\n        text-align: right;\n    }\n</style>\n<table border=\"1\" class=\"dataframe\">\n  <thead>\n    <tr style=\"text-align: right;\">\n      <th></th>\n      <th>categories</th>\n      <th>count</th>\n    </tr>\n  </thead>\n  <tbody>\n    <tr>\n      <th>0</th>\n      <td>Fiction</td>\n      <td>2415</td>\n    </tr>\n    <tr>\n      <th>1</th>\n      <td>Juvenile Fiction</td>\n      <td>503</td>\n    </tr>\n    <tr>\n      <th>2</th>\n      <td>Biography &amp; Autobiography</td>\n      <td>371</td>\n    </tr>\n    <tr>\n      <th>3</th>\n      <td>History</td>\n      <td>245</td>\n    </tr>\n    <tr>\n      <th>4</th>\n      <td>Literary Criticism</td>\n      <td>149</td>\n    </tr>\n    <tr>\n      <th>...</th>\n      <td>...</td>\n      <td>...</td>\n    </tr>\n    <tr>\n      <th>508</th>\n      <td>Meditation</td>\n      <td>1</td>\n    </tr>\n    <tr>\n      <th>509</th>\n      <td>Gay men</td>\n      <td>1</td>\n    </tr>\n    <tr>\n      <th>510</th>\n      <td>Christian fiction</td>\n      <td>1</td>\n    </tr>\n    <tr>\n      <th>511</th>\n      <td>Napoleonic Wars, 1800-1815</td>\n      <td>1</td>\n    </tr>\n    <tr>\n      <th>512</th>\n      <td>Bumppo, Natty (Fictitious character)</td>\n      <td>1</td>\n    </tr>\n  </tbody>\n</table>\n<p>513 rows × 2 columns</p>\n</div>"
     },
     "execution_count": 7,
     "metadata": {},
     "output_type": "execute_result"
    }
   ],
   "source": [
    "books[\"categories\"].value_counts().reset_index()"
   ],
   "metadata": {
    "collapsed": false,
    "ExecuteTime": {
     "end_time": "2025-06-25T20:10:41.542613900Z",
     "start_time": "2025-06-25T20:10:41.508472800Z"
    }
   },
   "id": "bd8767373a32dc93"
  },
  {
   "cell_type": "code",
   "execution_count": 8,
   "outputs": [
    {
     "data": {
      "text/plain": "                       categories  count\n0                         Fiction   2415\n1                Juvenile Fiction    503\n2       Biography & Autobiography    371\n3                         History    245\n4              Literary Criticism    149\n5         Comics & Graphic Novels    140\n6                      Philosophy    139\n7                        Religion    133\n8                           Drama    111\n9             Juvenile Nonfiction     99\n10                         Poetry     67\n11                        Science     64\n12           Literary Collections     64\n13           Business & Economics     59\n14                 Social Science     56\n15                Performing Arts     48\n16                            Art     42\n17                         Travel     42\n18                        Cooking     41\n19            Body, Mind & Spirit     41\n20                     Psychology     40\n21                      Computers     36\n22                      Self-Help     35\n23              Political Science     34\n24         Family & Relationships     32\n25               Health & Fitness     32\n26    Language Arts & Disciplines     31\n27                          Humor     30\n28             Children's stories     26\n29                      Education     25\n30                        Medical     23\n31                         Nature     23\n32                          Games     18\n33                          Music     18\n34              Adventure stories     17\n35            Sports & Recreation     17\n36  Detective and mystery stories     16",
      "text/html": "<div>\n<style scoped>\n    .dataframe tbody tr th:only-of-type {\n        vertical-align: middle;\n    }\n\n    .dataframe tbody tr th {\n        vertical-align: top;\n    }\n\n    .dataframe thead th {\n        text-align: right;\n    }\n</style>\n<table border=\"1\" class=\"dataframe\">\n  <thead>\n    <tr style=\"text-align: right;\">\n      <th></th>\n      <th>categories</th>\n      <th>count</th>\n    </tr>\n  </thead>\n  <tbody>\n    <tr>\n      <th>0</th>\n      <td>Fiction</td>\n      <td>2415</td>\n    </tr>\n    <tr>\n      <th>1</th>\n      <td>Juvenile Fiction</td>\n      <td>503</td>\n    </tr>\n    <tr>\n      <th>2</th>\n      <td>Biography &amp; Autobiography</td>\n      <td>371</td>\n    </tr>\n    <tr>\n      <th>3</th>\n      <td>History</td>\n      <td>245</td>\n    </tr>\n    <tr>\n      <th>4</th>\n      <td>Literary Criticism</td>\n      <td>149</td>\n    </tr>\n    <tr>\n      <th>5</th>\n      <td>Comics &amp; Graphic Novels</td>\n      <td>140</td>\n    </tr>\n    <tr>\n      <th>6</th>\n      <td>Philosophy</td>\n      <td>139</td>\n    </tr>\n    <tr>\n      <th>7</th>\n      <td>Religion</td>\n      <td>133</td>\n    </tr>\n    <tr>\n      <th>8</th>\n      <td>Drama</td>\n      <td>111</td>\n    </tr>\n    <tr>\n      <th>9</th>\n      <td>Juvenile Nonfiction</td>\n      <td>99</td>\n    </tr>\n    <tr>\n      <th>10</th>\n      <td>Poetry</td>\n      <td>67</td>\n    </tr>\n    <tr>\n      <th>11</th>\n      <td>Science</td>\n      <td>64</td>\n    </tr>\n    <tr>\n      <th>12</th>\n      <td>Literary Collections</td>\n      <td>64</td>\n    </tr>\n    <tr>\n      <th>13</th>\n      <td>Business &amp; Economics</td>\n      <td>59</td>\n    </tr>\n    <tr>\n      <th>14</th>\n      <td>Social Science</td>\n      <td>56</td>\n    </tr>\n    <tr>\n      <th>15</th>\n      <td>Performing Arts</td>\n      <td>48</td>\n    </tr>\n    <tr>\n      <th>16</th>\n      <td>Art</td>\n      <td>42</td>\n    </tr>\n    <tr>\n      <th>17</th>\n      <td>Travel</td>\n      <td>42</td>\n    </tr>\n    <tr>\n      <th>18</th>\n      <td>Cooking</td>\n      <td>41</td>\n    </tr>\n    <tr>\n      <th>19</th>\n      <td>Body, Mind &amp; Spirit</td>\n      <td>41</td>\n    </tr>\n    <tr>\n      <th>20</th>\n      <td>Psychology</td>\n      <td>40</td>\n    </tr>\n    <tr>\n      <th>21</th>\n      <td>Computers</td>\n      <td>36</td>\n    </tr>\n    <tr>\n      <th>22</th>\n      <td>Self-Help</td>\n      <td>35</td>\n    </tr>\n    <tr>\n      <th>23</th>\n      <td>Political Science</td>\n      <td>34</td>\n    </tr>\n    <tr>\n      <th>24</th>\n      <td>Family &amp; Relationships</td>\n      <td>32</td>\n    </tr>\n    <tr>\n      <th>25</th>\n      <td>Health &amp; Fitness</td>\n      <td>32</td>\n    </tr>\n    <tr>\n      <th>26</th>\n      <td>Language Arts &amp; Disciplines</td>\n      <td>31</td>\n    </tr>\n    <tr>\n      <th>27</th>\n      <td>Humor</td>\n      <td>30</td>\n    </tr>\n    <tr>\n      <th>28</th>\n      <td>Children's stories</td>\n      <td>26</td>\n    </tr>\n    <tr>\n      <th>29</th>\n      <td>Education</td>\n      <td>25</td>\n    </tr>\n    <tr>\n      <th>30</th>\n      <td>Medical</td>\n      <td>23</td>\n    </tr>\n    <tr>\n      <th>31</th>\n      <td>Nature</td>\n      <td>23</td>\n    </tr>\n    <tr>\n      <th>32</th>\n      <td>Games</td>\n      <td>18</td>\n    </tr>\n    <tr>\n      <th>33</th>\n      <td>Music</td>\n      <td>18</td>\n    </tr>\n    <tr>\n      <th>34</th>\n      <td>Adventure stories</td>\n      <td>17</td>\n    </tr>\n    <tr>\n      <th>35</th>\n      <td>Sports &amp; Recreation</td>\n      <td>17</td>\n    </tr>\n    <tr>\n      <th>36</th>\n      <td>Detective and mystery stories</td>\n      <td>16</td>\n    </tr>\n  </tbody>\n</table>\n</div>"
     },
     "execution_count": 8,
     "metadata": {},
     "output_type": "execute_result"
    }
   ],
   "source": [
    "books[\"categories\"].value_counts().reset_index().query(\"count > 15\")"
   ],
   "metadata": {
    "collapsed": false,
    "ExecuteTime": {
     "end_time": "2025-06-25T20:10:45.098992700Z",
     "start_time": "2025-06-25T20:10:45.077728400Z"
    }
   },
   "id": "55cd49e900af8cf1"
  },
  {
   "cell_type": "code",
   "execution_count": 9,
   "outputs": [],
   "source": [
    "category_mapping = {'Fiction' : \"Fiction\",\n",
    " 'Juvenile Fiction': \"Children's Fiction\",\n",
    " 'Biography & Autobiography': \"Nonfiction\",\n",
    " 'History': \"Nonfiction\",\n",
    " 'Literary Criticism': \"Nonfiction\",\n",
    " 'Philosophy': \"Nonfiction\",\n",
    " 'Religion': \"Nonfiction\",\n",
    " 'Comics & Graphic Novels': \"Fiction\",\n",
    " 'Drama': \"Fiction\",\n",
    " 'Juvenile Nonfiction': \"Children's Nonfiction\",\n",
    " 'Science': \"Nonfiction\",\n",
    " 'Poetry': \"Fiction\"}\n",
    "\n",
    "books[\"simple_categories\"] = books[\"categories\"].map(category_mapping)"
   ],
   "metadata": {
    "collapsed": false,
    "ExecuteTime": {
     "end_time": "2025-06-25T20:10:49.309076600Z",
     "start_time": "2025-06-25T20:10:49.288541800Z"
    }
   },
   "id": "6cee9fbc10f99736"
  },
  {
   "cell_type": "code",
   "execution_count": 10,
   "outputs": [
    {
     "data": {
      "text/plain": "             isbn13      isbn10                      title  \\\n0     9780002005883  0002005883                     Gilead   \n2     9780006178736  0006178731             Rage of angels   \n9     9780006482079  0006482074        Warhost of Vastmark   \n32    9780006646006  000664600X         Ocean Star Express   \n49    9780007121014  0007121016         Taken at the Flood   \n...             ...         ...                        ...   \n6134  9784770028969  4770028962         Coin Locker Babies   \n6135  9788122200850  8122200850           Cry, the Peacock   \n6141  9788185300535  8185300534                  I Am that   \n6142  9789027712059  9027712050   The Berlin Phenomenology   \n6143  9789042003408  9042003405  'I'm Telling You Stories'   \n\n                                           authors          categories  \\\n0                               Marilynne Robinson             Fiction   \n2                                   Sidney Sheldon             Fiction   \n9                                      Janny Wurts             Fiction   \n32                        Mark Haddon;Peter Sutton    Juvenile Fiction   \n49                                 Agatha Christie             Fiction   \n...                                            ...                 ...   \n6134                                           村上龍             Fiction   \n6135                                   Anita Desai             Fiction   \n6141  Sri Nisargadatta Maharaj;Sudhakar S. Dikshit          Philosophy   \n6142                 Georg Wilhelm Friedrich Hegel             History   \n6143                        Helena Grice;Tim Woods  Literary Criticism   \n\n                                              thumbnail  \\\n0     http://books.google.com/books/content?id=KQZCP...   \n2     http://books.google.com/books/content?id=FKo2T...   \n9     http://books.google.com/books/content?id=uOL0f...   \n32    http://books.google.com/books/content?id=I2QZA...   \n49    http://books.google.com/books/content?id=3gWlx...   \n...                                                 ...   \n6134  http://books.google.com/books/content?id=87DJw...   \n6135  http://books.google.com/books/content?id=_QKwV...   \n6141  http://books.google.com/books/content?id=Fv_JP...   \n6142  http://books.google.com/books/content?id=Vy7Sk...   \n6143  http://books.google.com/books/content?id=2lVyR...   \n\n                                            description  published_year  \\\n0     A NOVEL THAT READERS and critics have been eag...          2004.0   \n2     A memorable, mesmerizing heroine Jennifer -- b...          1993.0   \n9     Tricked once more by his wily half-brother, Ly...          1995.0   \n32    Joe and his parents are enjoying a summer holi...          2002.0   \n49    A Few Weeks After Marrying An Attractive Young...          2002.0   \n...                                                 ...             ...   \n6134  Rescued from the lockers in which they were le...          2002.0   \n6135  This book is the story of a young girl obsesse...          1980.0   \n6141  This collection of the timeless teachings of o...          1999.0   \n6142  Since the three volume edition ofHegel's Philo...          1981.0   \n6143  This is a jubilant and rewarding collection of...          1998.0   \n\n      average_rating  num_pages  ratings_count  \\\n0               3.85      247.0          361.0   \n2               3.93      512.0        29532.0   \n9               4.03      522.0         2966.0   \n32              3.50       32.0            1.0   \n49              3.71      352.0         8852.0   \n...              ...        ...            ...   \n6134            3.75      393.0         5560.0   \n6135            3.22      218.0          134.0   \n6141            4.51      531.0          104.0   \n6142            0.00      210.0            0.0   \n6143            3.70      136.0           10.0   \n\n                                     title_and_subtitle  \\\n0                                                Gilead   \n2                                        Rage of angels   \n9                                   Warhost of Vastmark   \n32                                   Ocean Star Express   \n49                                   Taken at the Flood   \n...                                                 ...   \n6134                                 Coin Locker Babies   \n6135                                   Cry, the Peacock   \n6141     I Am that: Talks with Sri Nisargadatta Maharaj   \n6142                           The Berlin Phenomenology   \n6143  'I'm Telling You Stories': Jeanette Winterson ...   \n\n                                     tagged_description   simple_categories  \n0     9780002005883 A NOVEL THAT READERS and critics...             Fiction  \n2     9780006178736 A memorable, mesmerizing heroine...             Fiction  \n9     9780006482079 Tricked once more by his wily ha...             Fiction  \n32    9780006646006 Joe and his parents are enjoying...  Children's Fiction  \n49    9780007121014 A Few Weeks After Marrying An At...             Fiction  \n...                                                 ...                 ...  \n6134  9784770028969 Rescued from the lockers in whic...             Fiction  \n6135  9788122200850 This book is the story of a youn...             Fiction  \n6141  9788185300535 This collection of the timeless ...          Nonfiction  \n6142  9789027712059 Since the three volume edition o...          Nonfiction  \n6143  9789042003408 This is a jubilant and rewarding...          Nonfiction  \n\n[4436 rows x 14 columns]",
      "text/html": "<div>\n<style scoped>\n    .dataframe tbody tr th:only-of-type {\n        vertical-align: middle;\n    }\n\n    .dataframe tbody tr th {\n        vertical-align: top;\n    }\n\n    .dataframe thead th {\n        text-align: right;\n    }\n</style>\n<table border=\"1\" class=\"dataframe\">\n  <thead>\n    <tr style=\"text-align: right;\">\n      <th></th>\n      <th>isbn13</th>\n      <th>isbn10</th>\n      <th>title</th>\n      <th>authors</th>\n      <th>categories</th>\n      <th>thumbnail</th>\n      <th>description</th>\n      <th>published_year</th>\n      <th>average_rating</th>\n      <th>num_pages</th>\n      <th>ratings_count</th>\n      <th>title_and_subtitle</th>\n      <th>tagged_description</th>\n      <th>simple_categories</th>\n    </tr>\n  </thead>\n  <tbody>\n    <tr>\n      <th>0</th>\n      <td>9780002005883</td>\n      <td>0002005883</td>\n      <td>Gilead</td>\n      <td>Marilynne Robinson</td>\n      <td>Fiction</td>\n      <td>http://books.google.com/books/content?id=KQZCP...</td>\n      <td>A NOVEL THAT READERS and critics have been eag...</td>\n      <td>2004.0</td>\n      <td>3.85</td>\n      <td>247.0</td>\n      <td>361.0</td>\n      <td>Gilead</td>\n      <td>9780002005883 A NOVEL THAT READERS and critics...</td>\n      <td>Fiction</td>\n    </tr>\n    <tr>\n      <th>2</th>\n      <td>9780006178736</td>\n      <td>0006178731</td>\n      <td>Rage of angels</td>\n      <td>Sidney Sheldon</td>\n      <td>Fiction</td>\n      <td>http://books.google.com/books/content?id=FKo2T...</td>\n      <td>A memorable, mesmerizing heroine Jennifer -- b...</td>\n      <td>1993.0</td>\n      <td>3.93</td>\n      <td>512.0</td>\n      <td>29532.0</td>\n      <td>Rage of angels</td>\n      <td>9780006178736 A memorable, mesmerizing heroine...</td>\n      <td>Fiction</td>\n    </tr>\n    <tr>\n      <th>9</th>\n      <td>9780006482079</td>\n      <td>0006482074</td>\n      <td>Warhost of Vastmark</td>\n      <td>Janny Wurts</td>\n      <td>Fiction</td>\n      <td>http://books.google.com/books/content?id=uOL0f...</td>\n      <td>Tricked once more by his wily half-brother, Ly...</td>\n      <td>1995.0</td>\n      <td>4.03</td>\n      <td>522.0</td>\n      <td>2966.0</td>\n      <td>Warhost of Vastmark</td>\n      <td>9780006482079 Tricked once more by his wily ha...</td>\n      <td>Fiction</td>\n    </tr>\n    <tr>\n      <th>32</th>\n      <td>9780006646006</td>\n      <td>000664600X</td>\n      <td>Ocean Star Express</td>\n      <td>Mark Haddon;Peter Sutton</td>\n      <td>Juvenile Fiction</td>\n      <td>http://books.google.com/books/content?id=I2QZA...</td>\n      <td>Joe and his parents are enjoying a summer holi...</td>\n      <td>2002.0</td>\n      <td>3.50</td>\n      <td>32.0</td>\n      <td>1.0</td>\n      <td>Ocean Star Express</td>\n      <td>9780006646006 Joe and his parents are enjoying...</td>\n      <td>Children's Fiction</td>\n    </tr>\n    <tr>\n      <th>49</th>\n      <td>9780007121014</td>\n      <td>0007121016</td>\n      <td>Taken at the Flood</td>\n      <td>Agatha Christie</td>\n      <td>Fiction</td>\n      <td>http://books.google.com/books/content?id=3gWlx...</td>\n      <td>A Few Weeks After Marrying An Attractive Young...</td>\n      <td>2002.0</td>\n      <td>3.71</td>\n      <td>352.0</td>\n      <td>8852.0</td>\n      <td>Taken at the Flood</td>\n      <td>9780007121014 A Few Weeks After Marrying An At...</td>\n      <td>Fiction</td>\n    </tr>\n    <tr>\n      <th>...</th>\n      <td>...</td>\n      <td>...</td>\n      <td>...</td>\n      <td>...</td>\n      <td>...</td>\n      <td>...</td>\n      <td>...</td>\n      <td>...</td>\n      <td>...</td>\n      <td>...</td>\n      <td>...</td>\n      <td>...</td>\n      <td>...</td>\n      <td>...</td>\n    </tr>\n    <tr>\n      <th>6134</th>\n      <td>9784770028969</td>\n      <td>4770028962</td>\n      <td>Coin Locker Babies</td>\n      <td>村上龍</td>\n      <td>Fiction</td>\n      <td>http://books.google.com/books/content?id=87DJw...</td>\n      <td>Rescued from the lockers in which they were le...</td>\n      <td>2002.0</td>\n      <td>3.75</td>\n      <td>393.0</td>\n      <td>5560.0</td>\n      <td>Coin Locker Babies</td>\n      <td>9784770028969 Rescued from the lockers in whic...</td>\n      <td>Fiction</td>\n    </tr>\n    <tr>\n      <th>6135</th>\n      <td>9788122200850</td>\n      <td>8122200850</td>\n      <td>Cry, the Peacock</td>\n      <td>Anita Desai</td>\n      <td>Fiction</td>\n      <td>http://books.google.com/books/content?id=_QKwV...</td>\n      <td>This book is the story of a young girl obsesse...</td>\n      <td>1980.0</td>\n      <td>3.22</td>\n      <td>218.0</td>\n      <td>134.0</td>\n      <td>Cry, the Peacock</td>\n      <td>9788122200850 This book is the story of a youn...</td>\n      <td>Fiction</td>\n    </tr>\n    <tr>\n      <th>6141</th>\n      <td>9788185300535</td>\n      <td>8185300534</td>\n      <td>I Am that</td>\n      <td>Sri Nisargadatta Maharaj;Sudhakar S. Dikshit</td>\n      <td>Philosophy</td>\n      <td>http://books.google.com/books/content?id=Fv_JP...</td>\n      <td>This collection of the timeless teachings of o...</td>\n      <td>1999.0</td>\n      <td>4.51</td>\n      <td>531.0</td>\n      <td>104.0</td>\n      <td>I Am that: Talks with Sri Nisargadatta Maharaj</td>\n      <td>9788185300535 This collection of the timeless ...</td>\n      <td>Nonfiction</td>\n    </tr>\n    <tr>\n      <th>6142</th>\n      <td>9789027712059</td>\n      <td>9027712050</td>\n      <td>The Berlin Phenomenology</td>\n      <td>Georg Wilhelm Friedrich Hegel</td>\n      <td>History</td>\n      <td>http://books.google.com/books/content?id=Vy7Sk...</td>\n      <td>Since the three volume edition ofHegel's Philo...</td>\n      <td>1981.0</td>\n      <td>0.00</td>\n      <td>210.0</td>\n      <td>0.0</td>\n      <td>The Berlin Phenomenology</td>\n      <td>9789027712059 Since the three volume edition o...</td>\n      <td>Nonfiction</td>\n    </tr>\n    <tr>\n      <th>6143</th>\n      <td>9789042003408</td>\n      <td>9042003405</td>\n      <td>'I'm Telling You Stories'</td>\n      <td>Helena Grice;Tim Woods</td>\n      <td>Literary Criticism</td>\n      <td>http://books.google.com/books/content?id=2lVyR...</td>\n      <td>This is a jubilant and rewarding collection of...</td>\n      <td>1998.0</td>\n      <td>3.70</td>\n      <td>136.0</td>\n      <td>10.0</td>\n      <td>'I'm Telling You Stories': Jeanette Winterson ...</td>\n      <td>9789042003408 This is a jubilant and rewarding...</td>\n      <td>Nonfiction</td>\n    </tr>\n  </tbody>\n</table>\n<p>4436 rows × 14 columns</p>\n</div>"
     },
     "execution_count": 10,
     "metadata": {},
     "output_type": "execute_result"
    }
   ],
   "source": [
    "books[~(books[\"simple_categories\"].isna())]"
   ],
   "metadata": {
    "collapsed": false,
    "ExecuteTime": {
     "end_time": "2025-06-25T20:10:53.862134900Z",
     "start_time": "2025-06-25T20:10:53.828025100Z"
    }
   },
   "id": "5e515514cb5713a5"
  },
  {
   "cell_type": "code",
   "execution_count": 11,
   "outputs": [
    {
     "name": "stderr",
     "output_type": "stream",
     "text": [
      "Device set to use cuda:0\n"
     ]
    }
   ],
   "source": [
    "from transformers import pipeline\n",
    "\n",
    "fiction_categories = [\"Fiction\", \"Nonfiction\"]\n",
    "\n",
    "pipe = pipeline(\n",
    "    \"zero-shot-classification\",\n",
    "    model=\"facebook/bart-large-mnli\",\n",
    "    device=0\n",
    ")\n"
   ],
   "metadata": {
    "collapsed": false,
    "ExecuteTime": {
     "end_time": "2025-06-25T20:10:58.570074200Z",
     "start_time": "2025-06-25T20:10:56.789611100Z"
    }
   },
   "id": "79db8f3128b06057"
  },
  {
   "cell_type": "code",
   "execution_count": 2,
   "outputs": [
    {
     "name": "stdout",
     "output_type": "stream",
     "text": [
      "CUDA available: True\n",
      "CUDA devices: 1\n"
     ]
    }
   ],
   "source": [
    "import torch\n",
    "print(\"CUDA available:\", torch.cuda.is_available())\n",
    "print(\"CUDA devices:\", torch.cuda.device_count())\n"
   ],
   "metadata": {
    "collapsed": false,
    "ExecuteTime": {
     "end_time": "2025-06-25T20:06:47.460330Z",
     "start_time": "2025-06-25T20:06:47.373083600Z"
    }
   },
   "id": "ae2b9143e1463d91"
  },
  {
   "cell_type": "code",
   "execution_count": 1,
   "outputs": [
    {
     "name": "stdout",
     "output_type": "stream",
     "text": [
      "2.7.1+cu118\n"
     ]
    }
   ],
   "source": [
    "import torch\n",
    "print(torch.__version__)\n"
   ],
   "metadata": {
    "collapsed": false,
    "ExecuteTime": {
     "end_time": "2025-06-25T20:06:42.263790200Z",
     "start_time": "2025-06-25T20:06:40.565079100Z"
    }
   },
   "id": "cb319887c72fd4aa"
  },
  {
   "cell_type": "code",
   "execution_count": 12,
   "outputs": [],
   "source": [
    "sequence = books.loc[books[\"simple_categories\"] == \"Fiction\", \"description\"].reset_index(drop=True)[0]"
   ],
   "metadata": {
    "collapsed": false,
    "ExecuteTime": {
     "end_time": "2025-06-25T20:11:03.593319Z",
     "start_time": "2025-06-25T20:11:03.585302200Z"
    }
   },
   "id": "83808adc84428380"
  },
  {
   "cell_type": "code",
   "execution_count": 13,
   "outputs": [
    {
     "data": {
      "text/plain": "{'sequence': 'A NOVEL THAT READERS and critics have been eagerly anticipating for over a decade, Gilead is an astonishingly imagined story of remarkable lives. John Ames is a preacher, the son of a preacher and the grandson (both maternal and paternal) of preachers. It’s 1956 in Gilead, Iowa, towards the end of the Reverend Ames’s life, and he is absorbed in recording his family’s story, a legacy for the young son he will never see grow up. Haunted by his grandfather’s presence, John tells of the rift between his grandfather and his father: the elder, an angry visionary who fought for the abolitionist cause, and his son, an ardent pacifist. He is troubled, too, by his prodigal namesake, Jack (John Ames) Boughton, his best friend’s lost son who returns to Gilead searching for forgiveness and redemption. Told in John Ames’s joyous, rambling voice that finds beauty, humour and truth in the smallest of life’s details, Gilead is a song of celebration and acceptance of the best and the worst the world has to offer. At its heart is a tale of the sacred bonds between fathers and sons, pitch-perfect in style and story, set to dazzle critics and readers alike.',\n 'labels': ['Fiction', 'Nonfiction'],\n 'scores': [0.8438259959220886, 0.15617400407791138]}"
     },
     "execution_count": 13,
     "metadata": {},
     "output_type": "execute_result"
    }
   ],
   "source": [
    "pipe(sequence, fiction_categories)"
   ],
   "metadata": {
    "collapsed": false,
    "ExecuteTime": {
     "end_time": "2025-06-25T20:11:18.433582400Z",
     "start_time": "2025-06-25T20:11:17.223004700Z"
    }
   },
   "id": "2aa7fe96b44541f5"
  },
  {
   "cell_type": "code",
   "execution_count": 14,
   "outputs": [
    {
     "data": {
      "text/plain": "'Fiction'"
     },
     "execution_count": 14,
     "metadata": {},
     "output_type": "execute_result"
    }
   ],
   "source": [
    "import numpy as np\n",
    "\n",
    "max_index = np.argmax(pipe(sequence, fiction_categories)[\"scores\"])\n",
    "max_label = pipe(sequence, fiction_categories)[\"labels\"][max_index]\n",
    "max_label"
   ],
   "metadata": {
    "collapsed": false,
    "ExecuteTime": {
     "end_time": "2025-06-25T20:11:31.715933200Z",
     "start_time": "2025-06-25T20:11:30.858289600Z"
    }
   },
   "id": "fb7b78fbb0f13d85"
  },
  {
   "cell_type": "code",
   "execution_count": 15,
   "outputs": [],
   "source": [
    "def generate_predictions(sequence, categories):\n",
    "    predictions = pipe(sequence, categories)\n",
    "    max_index = np.argmax(predictions[\"scores\"])\n",
    "    max_label = predictions[\"labels\"][max_index]\n",
    "    return max_label"
   ],
   "metadata": {
    "collapsed": false,
    "ExecuteTime": {
     "end_time": "2025-06-25T20:11:39.436438500Z",
     "start_time": "2025-06-25T20:11:39.424085Z"
    }
   },
   "id": "2253f90f39d0635"
  },
  {
   "cell_type": "code",
   "execution_count": 16,
   "outputs": [
    {
     "name": "stderr",
     "output_type": "stream",
     "text": [
      "  2%|▏         | 7/300 [00:02<01:21,  3.60it/s]You seem to be using the pipelines sequentially on GPU. In order to maximize efficiency please use a dataset\n",
      "100%|██████████| 300/300 [00:40<00:00,  7.42it/s]\n"
     ]
    }
   ],
   "source": [
    "from tqdm import tqdm\n",
    "\n",
    "actual_cats = []\n",
    "predicted_cats = []\n",
    "\n",
    "for i in tqdm(range(0, 300)):\n",
    "    sequence = books.loc[books[\"simple_categories\"] == \"Fiction\", \"description\"].reset_index(drop=True)[i]\n",
    "    predicted_cats += [generate_predictions(sequence, fiction_categories)]\n",
    "    actual_cats += [\"Fiction\"]"
   ],
   "metadata": {
    "collapsed": false,
    "ExecuteTime": {
     "end_time": "2025-06-25T20:14:21.757563700Z",
     "start_time": "2025-06-25T20:13:41.281301Z"
    }
   },
   "id": "656e88da8464cc87"
  },
  {
   "cell_type": "code",
   "execution_count": 17,
   "outputs": [
    {
     "name": "stderr",
     "output_type": "stream",
     "text": [
      "100%|██████████| 300/300 [00:38<00:00,  7.72it/s]\n"
     ]
    }
   ],
   "source": [
    "for i in tqdm(range(0, 300)):\n",
    "    sequence = books.loc[books[\"simple_categories\"] == \"Nonfiction\", \"description\"].reset_index(drop=True)[i]\n",
    "    predicted_cats += [generate_predictions(sequence, fiction_categories)]\n",
    "    actual_cats += [\"Nonfiction\"]"
   ],
   "metadata": {
    "collapsed": false,
    "ExecuteTime": {
     "end_time": "2025-06-25T20:15:00.638217700Z",
     "start_time": "2025-06-25T20:14:21.757563700Z"
    }
   },
   "id": "570997e4e64b60a0"
  },
  {
   "cell_type": "code",
   "execution_count": 18,
   "outputs": [],
   "source": [
    "predictions_df = pd.DataFrame({\"actual_categories\": actual_cats, \"predicted_categories\": predicted_cats})"
   ],
   "metadata": {
    "collapsed": false,
    "ExecuteTime": {
     "end_time": "2025-06-25T20:15:19.575628300Z",
     "start_time": "2025-06-25T20:15:19.548454100Z"
    }
   },
   "id": "9c2895b4b16f8335"
  },
  {
   "cell_type": "code",
   "execution_count": 19,
   "outputs": [
    {
     "data": {
      "text/plain": "    actual_categories predicted_categories\n0             Fiction              Fiction\n1             Fiction              Fiction\n2             Fiction              Fiction\n3             Fiction           Nonfiction\n4             Fiction              Fiction\n..                ...                  ...\n595        Nonfiction           Nonfiction\n596        Nonfiction              Fiction\n597        Nonfiction           Nonfiction\n598        Nonfiction           Nonfiction\n599        Nonfiction           Nonfiction\n\n[600 rows x 2 columns]",
      "text/html": "<div>\n<style scoped>\n    .dataframe tbody tr th:only-of-type {\n        vertical-align: middle;\n    }\n\n    .dataframe tbody tr th {\n        vertical-align: top;\n    }\n\n    .dataframe thead th {\n        text-align: right;\n    }\n</style>\n<table border=\"1\" class=\"dataframe\">\n  <thead>\n    <tr style=\"text-align: right;\">\n      <th></th>\n      <th>actual_categories</th>\n      <th>predicted_categories</th>\n    </tr>\n  </thead>\n  <tbody>\n    <tr>\n      <th>0</th>\n      <td>Fiction</td>\n      <td>Fiction</td>\n    </tr>\n    <tr>\n      <th>1</th>\n      <td>Fiction</td>\n      <td>Fiction</td>\n    </tr>\n    <tr>\n      <th>2</th>\n      <td>Fiction</td>\n      <td>Fiction</td>\n    </tr>\n    <tr>\n      <th>3</th>\n      <td>Fiction</td>\n      <td>Nonfiction</td>\n    </tr>\n    <tr>\n      <th>4</th>\n      <td>Fiction</td>\n      <td>Fiction</td>\n    </tr>\n    <tr>\n      <th>...</th>\n      <td>...</td>\n      <td>...</td>\n    </tr>\n    <tr>\n      <th>595</th>\n      <td>Nonfiction</td>\n      <td>Nonfiction</td>\n    </tr>\n    <tr>\n      <th>596</th>\n      <td>Nonfiction</td>\n      <td>Fiction</td>\n    </tr>\n    <tr>\n      <th>597</th>\n      <td>Nonfiction</td>\n      <td>Nonfiction</td>\n    </tr>\n    <tr>\n      <th>598</th>\n      <td>Nonfiction</td>\n      <td>Nonfiction</td>\n    </tr>\n    <tr>\n      <th>599</th>\n      <td>Nonfiction</td>\n      <td>Nonfiction</td>\n    </tr>\n  </tbody>\n</table>\n<p>600 rows × 2 columns</p>\n</div>"
     },
     "execution_count": 19,
     "metadata": {},
     "output_type": "execute_result"
    }
   ],
   "source": [
    "predictions_df"
   ],
   "metadata": {
    "collapsed": false,
    "ExecuteTime": {
     "end_time": "2025-06-25T20:15:26.716975900Z",
     "start_time": "2025-06-25T20:15:26.705017400Z"
    }
   },
   "id": "28b91ef68286a2f"
  },
  {
   "cell_type": "code",
   "execution_count": 20,
   "outputs": [],
   "source": [
    "predictions_df[\"correct_prediction\"] = (\n",
    "    np.where(predictions_df[\"actual_categories\"] == predictions_df[\"predicted_categories\"], 1, 0)\n",
    ")"
   ],
   "metadata": {
    "collapsed": false,
    "ExecuteTime": {
     "end_time": "2025-06-25T20:15:49.656329200Z",
     "start_time": "2025-06-25T20:15:49.632557800Z"
    }
   },
   "id": "f4e988d8d88bdf7a"
  },
  {
   "cell_type": "code",
   "execution_count": 21,
   "outputs": [
    {
     "data": {
      "text/plain": "np.float64(0.7666666666666667)"
     },
     "execution_count": 21,
     "metadata": {},
     "output_type": "execute_result"
    }
   ],
   "source": [
    "predictions_df[\"correct_prediction\"].sum() / len(predictions_df)"
   ],
   "metadata": {
    "collapsed": false,
    "ExecuteTime": {
     "end_time": "2025-06-25T20:15:57.144492300Z",
     "start_time": "2025-06-25T20:15:57.065439Z"
    }
   },
   "id": "4a25a98efbbcb885"
  },
  {
   "cell_type": "code",
   "execution_count": 22,
   "outputs": [],
   "source": [
    "isbns = []\n",
    "predicted_cats = []\n",
    "\n",
    "missing_cats = books.loc[books[\"simple_categories\"].isna(), [\"isbn13\", \"description\"]].reset_index(drop=True)"
   ],
   "metadata": {
    "collapsed": false,
    "ExecuteTime": {
     "end_time": "2025-06-25T20:17:29.014178400Z",
     "start_time": "2025-06-25T20:17:28.898255200Z"
    }
   },
   "id": "9119562c261c1ab"
  },
  {
   "cell_type": "code",
   "execution_count": 23,
   "outputs": [
    {
     "name": "stderr",
     "output_type": "stream",
     "text": [
      "100%|██████████| 1708/1708 [03:14<00:00,  8.80it/s]\n"
     ]
    }
   ],
   "source": [
    "for i in tqdm(range(0, len(missing_cats))):\n",
    "    sequence = missing_cats[\"description\"][i]\n",
    "    predicted_cats += [generate_predictions(sequence, fiction_categories)]\n",
    "    isbns += [missing_cats[\"isbn13\"][i]]"
   ],
   "metadata": {
    "collapsed": false,
    "ExecuteTime": {
     "end_time": "2025-06-25T20:20:50.277696Z",
     "start_time": "2025-06-25T20:17:36.176414800Z"
    }
   },
   "id": "d5686cc038a51838"
  },
  {
   "cell_type": "code",
   "execution_count": 24,
   "outputs": [],
   "source": [
    "missing_predicted_df = pd.DataFrame({\"isbn13\": isbns, \"predicted_categories\": predicted_cats})"
   ],
   "metadata": {
    "collapsed": false,
    "ExecuteTime": {
     "end_time": "2025-06-25T20:22:57.828640600Z",
     "start_time": "2025-06-25T20:22:57.788782200Z"
    }
   },
   "id": "86a090dbc9dc3e74"
  },
  {
   "cell_type": "code",
   "execution_count": 25,
   "outputs": [
    {
     "data": {
      "text/plain": "             isbn13 predicted_categories\n0     9780002261982              Fiction\n1     9780006280897           Nonfiction\n2     9780006280934           Nonfiction\n3     9780006380832           Nonfiction\n4     9780006470229              Fiction\n...             ...                  ...\n1703  9788125026600           Nonfiction\n1704  9788171565641              Fiction\n1705  9788172235222              Fiction\n1706  9788173031014           Nonfiction\n1707  9788179921623              Fiction\n\n[1708 rows x 2 columns]",
      "text/html": "<div>\n<style scoped>\n    .dataframe tbody tr th:only-of-type {\n        vertical-align: middle;\n    }\n\n    .dataframe tbody tr th {\n        vertical-align: top;\n    }\n\n    .dataframe thead th {\n        text-align: right;\n    }\n</style>\n<table border=\"1\" class=\"dataframe\">\n  <thead>\n    <tr style=\"text-align: right;\">\n      <th></th>\n      <th>isbn13</th>\n      <th>predicted_categories</th>\n    </tr>\n  </thead>\n  <tbody>\n    <tr>\n      <th>0</th>\n      <td>9780002261982</td>\n      <td>Fiction</td>\n    </tr>\n    <tr>\n      <th>1</th>\n      <td>9780006280897</td>\n      <td>Nonfiction</td>\n    </tr>\n    <tr>\n      <th>2</th>\n      <td>9780006280934</td>\n      <td>Nonfiction</td>\n    </tr>\n    <tr>\n      <th>3</th>\n      <td>9780006380832</td>\n      <td>Nonfiction</td>\n    </tr>\n    <tr>\n      <th>4</th>\n      <td>9780006470229</td>\n      <td>Fiction</td>\n    </tr>\n    <tr>\n      <th>...</th>\n      <td>...</td>\n      <td>...</td>\n    </tr>\n    <tr>\n      <th>1703</th>\n      <td>9788125026600</td>\n      <td>Nonfiction</td>\n    </tr>\n    <tr>\n      <th>1704</th>\n      <td>9788171565641</td>\n      <td>Fiction</td>\n    </tr>\n    <tr>\n      <th>1705</th>\n      <td>9788172235222</td>\n      <td>Fiction</td>\n    </tr>\n    <tr>\n      <th>1706</th>\n      <td>9788173031014</td>\n      <td>Nonfiction</td>\n    </tr>\n    <tr>\n      <th>1707</th>\n      <td>9788179921623</td>\n      <td>Fiction</td>\n    </tr>\n  </tbody>\n</table>\n<p>1708 rows × 2 columns</p>\n</div>"
     },
     "execution_count": 25,
     "metadata": {},
     "output_type": "execute_result"
    }
   ],
   "source": [
    "missing_predicted_df"
   ],
   "metadata": {
    "collapsed": false,
    "ExecuteTime": {
     "end_time": "2025-06-25T20:23:04.684913200Z",
     "start_time": "2025-06-25T20:23:04.665400900Z"
    }
   },
   "id": "336a2204174dc42e"
  },
  {
   "cell_type": "code",
   "execution_count": 26,
   "outputs": [],
   "source": [
    "books = pd.merge(books, missing_predicted_df, on=\"isbn13\", how=\"left\")\n",
    "books[\"simple_categories\"] = np.where(books[\"simple_categories\"].isna(), books[\"predicted_categories\"], books[\"simple_categories\"])\n",
    "books = books.drop(columns = [\"predicted_categories\"])"
   ],
   "metadata": {
    "collapsed": false,
    "ExecuteTime": {
     "end_time": "2025-06-25T20:25:32.364549400Z",
     "start_time": "2025-06-25T20:25:32.248090400Z"
    }
   },
   "id": "1bc6563625666e23"
  },
  {
   "cell_type": "code",
   "execution_count": 27,
   "outputs": [
    {
     "data": {
      "text/plain": "             isbn13      isbn10  \\\n0     9780002005883  0002005883   \n1     9780002261982  0002261987   \n2     9780006178736  0006178731   \n3     9780006280897  0006280897   \n4     9780006280934  0006280935   \n...             ...         ...   \n6139  9788173031014  8173031010   \n6140  9788179921623  817992162X   \n6141  9788185300535  8185300534   \n6142  9789027712059  9027712050   \n6143  9789042003408  9042003405   \n\n                                                  title  \\\n0                                                Gilead   \n1                                          Spider's Web   \n2                                        Rage of angels   \n3                                        The Four Loves   \n4                                   The Problem of Pain   \n...                                                 ...   \n6139                                Journey to the East   \n6140  The Monk Who Sold His Ferrari: A Fable About F...   \n6141                                          I Am that   \n6142                           The Berlin Phenomenology   \n6143                          'I'm Telling You Stories'   \n\n                                           authors  \\\n0                               Marilynne Robinson   \n1                  Charles Osborne;Agatha Christie   \n2                                   Sidney Sheldon   \n3                              Clive Staples Lewis   \n4                              Clive Staples Lewis   \n...                                            ...   \n6139                                 Hermann Hesse   \n6140                                  Robin Sharma   \n6141  Sri Nisargadatta Maharaj;Sudhakar S. Dikshit   \n6142                 Georg Wilhelm Friedrich Hegel   \n6143                        Helena Grice;Tim Woods   \n\n                         categories  \\\n0                           Fiction   \n1     Detective and mystery stories   \n2                           Fiction   \n3                    Christian life   \n4                    Christian life   \n...                             ...   \n6139              Adventure stories   \n6140               Health & Fitness   \n6141                     Philosophy   \n6142                        History   \n6143             Literary Criticism   \n\n                                              thumbnail  \\\n0     http://books.google.com/books/content?id=KQZCP...   \n1     http://books.google.com/books/content?id=gA5GP...   \n2     http://books.google.com/books/content?id=FKo2T...   \n3     http://books.google.com/books/content?id=XhQ5X...   \n4     http://books.google.com/books/content?id=Kk-uV...   \n...                                                 ...   \n6139  http://books.google.com/books/content?id=rq6JP...   \n6140  http://books.google.com/books/content?id=c_7mf...   \n6141  http://books.google.com/books/content?id=Fv_JP...   \n6142  http://books.google.com/books/content?id=Vy7Sk...   \n6143  http://books.google.com/books/content?id=2lVyR...   \n\n                                            description  published_year  \\\n0     A NOVEL THAT READERS and critics have been eag...          2004.0   \n1     A new 'Christie for Christmas' -- a full-lengt...          2000.0   \n2     A memorable, mesmerizing heroine Jennifer -- b...          1993.0   \n3     Lewis' work on the nature of love divides love...          2002.0   \n4     \"In The Problem of Pain, C.S. Lewis, one of th...          2002.0   \n...                                                 ...             ...   \n6139  This book tells the tale of a man who goes on ...          2002.0   \n6140  Wisdom to Create a Life of Passion, Purpose, a...          2003.0   \n6141  This collection of the timeless teachings of o...          1999.0   \n6142  Since the three volume edition ofHegel's Philo...          1981.0   \n6143  This is a jubilant and rewarding collection of...          1998.0   \n\n      average_rating  num_pages  ratings_count  \\\n0               3.85      247.0          361.0   \n1               3.83      241.0         5164.0   \n2               3.93      512.0        29532.0   \n3               4.15      170.0        33684.0   \n4               4.09      176.0        37569.0   \n...              ...        ...            ...   \n6139            3.70      175.0           24.0   \n6140            3.82      198.0         1568.0   \n6141            4.51      531.0          104.0   \n6142            0.00      210.0            0.0   \n6143            3.70      136.0           10.0   \n\n                                     title_and_subtitle  \\\n0                                                Gilead   \n1                                 Spider's Web: A Novel   \n2                                        Rage of angels   \n3                                        The Four Loves   \n4                                   The Problem of Pain   \n...                                                 ...   \n6139                                Journey to the East   \n6140  The Monk Who Sold His Ferrari: A Fable About F...   \n6141     I Am that: Talks with Sri Nisargadatta Maharaj   \n6142                           The Berlin Phenomenology   \n6143  'I'm Telling You Stories': Jeanette Winterson ...   \n\n                                     tagged_description simple_categories  \n0     9780002005883 A NOVEL THAT READERS and critics...           Fiction  \n1     9780002261982 A new 'Christie for Christmas' -...           Fiction  \n2     9780006178736 A memorable, mesmerizing heroine...           Fiction  \n3     9780006280897 Lewis' work on the nature of lov...        Nonfiction  \n4     9780006280934 \"In The Problem of Pain, C.S. Le...        Nonfiction  \n...                                                 ...               ...  \n6139  9788173031014 This book tells the tale of a ma...        Nonfiction  \n6140  9788179921623 Wisdom to Create a Life of Passi...           Fiction  \n6141  9788185300535 This collection of the timeless ...        Nonfiction  \n6142  9789027712059 Since the three volume edition o...        Nonfiction  \n6143  9789042003408 This is a jubilant and rewarding...        Nonfiction  \n\n[6144 rows x 14 columns]",
      "text/html": "<div>\n<style scoped>\n    .dataframe tbody tr th:only-of-type {\n        vertical-align: middle;\n    }\n\n    .dataframe tbody tr th {\n        vertical-align: top;\n    }\n\n    .dataframe thead th {\n        text-align: right;\n    }\n</style>\n<table border=\"1\" class=\"dataframe\">\n  <thead>\n    <tr style=\"text-align: right;\">\n      <th></th>\n      <th>isbn13</th>\n      <th>isbn10</th>\n      <th>title</th>\n      <th>authors</th>\n      <th>categories</th>\n      <th>thumbnail</th>\n      <th>description</th>\n      <th>published_year</th>\n      <th>average_rating</th>\n      <th>num_pages</th>\n      <th>ratings_count</th>\n      <th>title_and_subtitle</th>\n      <th>tagged_description</th>\n      <th>simple_categories</th>\n    </tr>\n  </thead>\n  <tbody>\n    <tr>\n      <th>0</th>\n      <td>9780002005883</td>\n      <td>0002005883</td>\n      <td>Gilead</td>\n      <td>Marilynne Robinson</td>\n      <td>Fiction</td>\n      <td>http://books.google.com/books/content?id=KQZCP...</td>\n      <td>A NOVEL THAT READERS and critics have been eag...</td>\n      <td>2004.0</td>\n      <td>3.85</td>\n      <td>247.0</td>\n      <td>361.0</td>\n      <td>Gilead</td>\n      <td>9780002005883 A NOVEL THAT READERS and critics...</td>\n      <td>Fiction</td>\n    </tr>\n    <tr>\n      <th>1</th>\n      <td>9780002261982</td>\n      <td>0002261987</td>\n      <td>Spider's Web</td>\n      <td>Charles Osborne;Agatha Christie</td>\n      <td>Detective and mystery stories</td>\n      <td>http://books.google.com/books/content?id=gA5GP...</td>\n      <td>A new 'Christie for Christmas' -- a full-lengt...</td>\n      <td>2000.0</td>\n      <td>3.83</td>\n      <td>241.0</td>\n      <td>5164.0</td>\n      <td>Spider's Web: A Novel</td>\n      <td>9780002261982 A new 'Christie for Christmas' -...</td>\n      <td>Fiction</td>\n    </tr>\n    <tr>\n      <th>2</th>\n      <td>9780006178736</td>\n      <td>0006178731</td>\n      <td>Rage of angels</td>\n      <td>Sidney Sheldon</td>\n      <td>Fiction</td>\n      <td>http://books.google.com/books/content?id=FKo2T...</td>\n      <td>A memorable, mesmerizing heroine Jennifer -- b...</td>\n      <td>1993.0</td>\n      <td>3.93</td>\n      <td>512.0</td>\n      <td>29532.0</td>\n      <td>Rage of angels</td>\n      <td>9780006178736 A memorable, mesmerizing heroine...</td>\n      <td>Fiction</td>\n    </tr>\n    <tr>\n      <th>3</th>\n      <td>9780006280897</td>\n      <td>0006280897</td>\n      <td>The Four Loves</td>\n      <td>Clive Staples Lewis</td>\n      <td>Christian life</td>\n      <td>http://books.google.com/books/content?id=XhQ5X...</td>\n      <td>Lewis' work on the nature of love divides love...</td>\n      <td>2002.0</td>\n      <td>4.15</td>\n      <td>170.0</td>\n      <td>33684.0</td>\n      <td>The Four Loves</td>\n      <td>9780006280897 Lewis' work on the nature of lov...</td>\n      <td>Nonfiction</td>\n    </tr>\n    <tr>\n      <th>4</th>\n      <td>9780006280934</td>\n      <td>0006280935</td>\n      <td>The Problem of Pain</td>\n      <td>Clive Staples Lewis</td>\n      <td>Christian life</td>\n      <td>http://books.google.com/books/content?id=Kk-uV...</td>\n      <td>\"In The Problem of Pain, C.S. Lewis, one of th...</td>\n      <td>2002.0</td>\n      <td>4.09</td>\n      <td>176.0</td>\n      <td>37569.0</td>\n      <td>The Problem of Pain</td>\n      <td>9780006280934 \"In The Problem of Pain, C.S. Le...</td>\n      <td>Nonfiction</td>\n    </tr>\n    <tr>\n      <th>...</th>\n      <td>...</td>\n      <td>...</td>\n      <td>...</td>\n      <td>...</td>\n      <td>...</td>\n      <td>...</td>\n      <td>...</td>\n      <td>...</td>\n      <td>...</td>\n      <td>...</td>\n      <td>...</td>\n      <td>...</td>\n      <td>...</td>\n      <td>...</td>\n    </tr>\n    <tr>\n      <th>6139</th>\n      <td>9788173031014</td>\n      <td>8173031010</td>\n      <td>Journey to the East</td>\n      <td>Hermann Hesse</td>\n      <td>Adventure stories</td>\n      <td>http://books.google.com/books/content?id=rq6JP...</td>\n      <td>This book tells the tale of a man who goes on ...</td>\n      <td>2002.0</td>\n      <td>3.70</td>\n      <td>175.0</td>\n      <td>24.0</td>\n      <td>Journey to the East</td>\n      <td>9788173031014 This book tells the tale of a ma...</td>\n      <td>Nonfiction</td>\n    </tr>\n    <tr>\n      <th>6140</th>\n      <td>9788179921623</td>\n      <td>817992162X</td>\n      <td>The Monk Who Sold His Ferrari: A Fable About F...</td>\n      <td>Robin Sharma</td>\n      <td>Health &amp; Fitness</td>\n      <td>http://books.google.com/books/content?id=c_7mf...</td>\n      <td>Wisdom to Create a Life of Passion, Purpose, a...</td>\n      <td>2003.0</td>\n      <td>3.82</td>\n      <td>198.0</td>\n      <td>1568.0</td>\n      <td>The Monk Who Sold His Ferrari: A Fable About F...</td>\n      <td>9788179921623 Wisdom to Create a Life of Passi...</td>\n      <td>Fiction</td>\n    </tr>\n    <tr>\n      <th>6141</th>\n      <td>9788185300535</td>\n      <td>8185300534</td>\n      <td>I Am that</td>\n      <td>Sri Nisargadatta Maharaj;Sudhakar S. Dikshit</td>\n      <td>Philosophy</td>\n      <td>http://books.google.com/books/content?id=Fv_JP...</td>\n      <td>This collection of the timeless teachings of o...</td>\n      <td>1999.0</td>\n      <td>4.51</td>\n      <td>531.0</td>\n      <td>104.0</td>\n      <td>I Am that: Talks with Sri Nisargadatta Maharaj</td>\n      <td>9788185300535 This collection of the timeless ...</td>\n      <td>Nonfiction</td>\n    </tr>\n    <tr>\n      <th>6142</th>\n      <td>9789027712059</td>\n      <td>9027712050</td>\n      <td>The Berlin Phenomenology</td>\n      <td>Georg Wilhelm Friedrich Hegel</td>\n      <td>History</td>\n      <td>http://books.google.com/books/content?id=Vy7Sk...</td>\n      <td>Since the three volume edition ofHegel's Philo...</td>\n      <td>1981.0</td>\n      <td>0.00</td>\n      <td>210.0</td>\n      <td>0.0</td>\n      <td>The Berlin Phenomenology</td>\n      <td>9789027712059 Since the three volume edition o...</td>\n      <td>Nonfiction</td>\n    </tr>\n    <tr>\n      <th>6143</th>\n      <td>9789042003408</td>\n      <td>9042003405</td>\n      <td>'I'm Telling You Stories'</td>\n      <td>Helena Grice;Tim Woods</td>\n      <td>Literary Criticism</td>\n      <td>http://books.google.com/books/content?id=2lVyR...</td>\n      <td>This is a jubilant and rewarding collection of...</td>\n      <td>1998.0</td>\n      <td>3.70</td>\n      <td>136.0</td>\n      <td>10.0</td>\n      <td>'I'm Telling You Stories': Jeanette Winterson ...</td>\n      <td>9789042003408 This is a jubilant and rewarding...</td>\n      <td>Nonfiction</td>\n    </tr>\n  </tbody>\n</table>\n<p>6144 rows × 14 columns</p>\n</div>"
     },
     "execution_count": 27,
     "metadata": {},
     "output_type": "execute_result"
    }
   ],
   "source": [
    "books"
   ],
   "metadata": {
    "collapsed": false,
    "ExecuteTime": {
     "end_time": "2025-06-25T20:25:39.462370Z",
     "start_time": "2025-06-25T20:25:39.432136500Z"
    }
   },
   "id": "e939ddc874efa899"
  },
  {
   "cell_type": "code",
   "execution_count": 28,
   "outputs": [
    {
     "data": {
      "text/plain": "             isbn13      isbn10                                     title  \\\n25    9780006513087  0006513085                                   Gravity   \n519   9780099410355  0099410354                                   Traitor   \n522   9780099422341  0099422344                            Yeats is Dead!   \n535   9780099446729  0099446723                            Blackwood Farm   \n1244  9780261102422  0261102427                          The Silmarillion   \n1583  9780330351829  0330351826                   A Second Chance at Eden   \n1633  9780340837955  0340837950                Stranger in a Strange Land   \n1638  9780345251220  0345251229                      Visions from Nowhere   \n2457  9780439405607  0439405602       Guardians of Ga'Hoole #4: The Siege   \n3326  9780575075597  0575075597                                    Replay   \n3346  9780590254762  0590254766      The lion, the witch and the wardrobe   \n3902  9780739423851  0739423851                           Wizard's Castle   \n3904  9780739439708  0739439707                              Time Quartet   \n4210  9780760728505  076072850X              20,000 Leagues Under the Sea   \n5314  9781416502043  1416502041  The Voyage of the Jerle Shannara Trilogy   \n5887  9781841494081  1841494089            The Darkness that Comes Before   \n5954  9781857231359  185723135X                            Use of Weapons   \n5971  9781857989342  1857989341                       The Gods Themselves   \n\n                        authors       categories  \\\n25               Tess Gerritsen  Science fiction   \n519     Matthew Woodring Stover  Science fiction   \n522             Joseph O'Connor           Comedy   \n535                   Anne Rice           Horror   \n1244  John Ronald Reuel Tolkien          Fantasy   \n1583          Peter F. Hamilton  Science fiction   \n1633         Robert A. Heinlein  Science fiction   \n1638              William Arrow  Science fiction   \n2457              Kathryn Lasky          Fantasy   \n3326               Ken Grimwood          Fantasy   \n3346        Clive Staples Lewis          Fantasy   \n3902          Diana Wynne Jones          Fantasy   \n3904          Madeleine L'Engle  Science fiction   \n4210                Jules Verne  Science fiction   \n5314               Terry Brooks          Fantasy   \n5887            R. Scott Bakker          Fantasy   \n5954                 Iain Banks  Science fiction   \n5971               Isaac Asimov  Science fiction   \n\n                                              thumbnail  \\\n25    http://books.google.com/books/content?id=KI66c...   \n519   http://books.google.com/books/content?id=VbICO...   \n522   http://books.google.com/books/content?id=DrE3I...   \n535   http://books.google.com/books/content?id=cIn8T...   \n1244  http://books.google.com/books/content?id=22ePu...   \n1583  http://books.google.com/books/content?id=foyS8...   \n1633  http://books.google.com/books/content?id=ZQhiP...   \n1638                                                NaN   \n2457                                                NaN   \n3326  http://books.google.com/books/content?id=9vmNP...   \n3346                                                NaN   \n3902  http://books.google.com/books/content?id=hB7hA...   \n3904                                                NaN   \n4210                                                NaN   \n5314  http://books.google.com/books/content?id=jqVsA...   \n5887  http://books.google.com/books/content?id=BG8qG...   \n5954                                                NaN   \n5971  http://books.google.com/books/content?id=8ClIP...   \n\n                                            description  published_year  \\\n25    Emma Watson a research physician has been trai...          2004.0   \n519   From the depths of catastrophe, a glimmer of h...          2002.0   \n522   In aid of Amnesty International, this is a bri...          2002.0   \n535   Lestat Is Back, Saviour And Demon, Presiding O...          2003.0   \n1244  Tolkien's Silmarillion is the core work of the...          1999.0   \n1583  This novella and six stories are set in the sa...          1999.0   \n1633  Epic, entertaining, Stranger in a Strange Land...          2005.0   \n1638  The first novel in the series, \"Return to the ...          1976.0   \n2457  The war between the evil group led by Soren's ...          2003.0   \n3326  At forty-three Jeff Winston is tired of his lo...          2005.0   \n3346  Four English school children enter the magic l...          1995.0   \n3902  Howl's moving castle - Eldest of three sisters...          2002.0   \n3904  Blending magic with quantum physics, Madeleine...          2003.0   \n4210  Retells the adventures of a French professor a...          2002.0   \n5314  When the body of a half-drowned elf is found f...          2004.0   \n5887  A score of centuries has passed since the Firs...          2005.0   \n5954  The man known as Cheradenine Zakalwe was one o...          1992.0   \n5971  In the year 2100, mankind on Earth, settlers i...          2000.0   \n\n      average_rating  num_pages  ratings_count  \\\n25              4.04      342.0         8024.0   \n519             4.00      320.0         6765.0   \n522             3.39      298.0           34.0   \n535             3.86      774.0        26145.0   \n1244            3.91      384.0          253.0   \n1583            4.02      496.0         3844.0   \n1633            3.92      672.0          563.0   \n1638            3.23      183.0           10.0   \n2457            4.10      203.0         8964.0   \n3326            4.16      272.0          412.0   \n3346            4.21      189.0          860.0   \n3902            4.44      376.0          439.0   \n3904            4.35      646.0          165.0   \n4210            3.88      394.0       135778.0   \n5314            4.26     1260.0           84.0   \n5887            3.79      638.0          317.0   \n5954            4.19      411.0        30779.0   \n5971            4.09      288.0        41304.0   \n\n                                    title_and_subtitle  \\\n25                                             Gravity   \n519                                            Traitor   \n522   Yeats is Dead!: A Novel by Fifteen Irish Writers   \n535                                     Blackwood Farm   \n1244                                  The Silmarillion   \n1583                           A Second Chance at Eden   \n1633                        Stranger in a Strange Land   \n1638                              Visions from Nowhere   \n2457               Guardians of Ga'Hoole #4: The Siege   \n3326                                            Replay   \n3346              The lion, the witch and the wardrobe   \n3902                                   Wizard's Castle   \n3904                                      Time Quartet   \n4210                      20,000 Leagues Under the Sea   \n5314          The Voyage of the Jerle Shannara Trilogy   \n5887                    The Darkness that Comes Before   \n5954                                    Use of Weapons   \n5971                               The Gods Themselves   \n\n                                     tagged_description simple_categories  \n25    9780006513087 Emma Watson a research physician...        Nonfiction  \n519   9780099410355 From the depths of catastrophe, ...           Fiction  \n522   9780099422341 In aid of Amnesty International,...           Fiction  \n535   9780099446729 Lestat Is Back, Saviour And Demo...           Fiction  \n1244  9780261102422 Tolkien's Silmarillion is the co...           Fiction  \n1583  9780330351829 This novella and six stories are...           Fiction  \n1633  9780340837955 Epic, entertaining, Stranger in ...           Fiction  \n1638  9780345251220 The first novel in the series, \"...           Fiction  \n2457  9780439405607 The war between the evil group l...           Fiction  \n3326  9780575075597 At forty-three Jeff Winston is t...           Fiction  \n3346  9780590254762 Four English school children ent...        Nonfiction  \n3902  9780739423851 Howl's moving castle - Eldest of...           Fiction  \n3904  9780739439708 Blending magic with quantum phys...           Fiction  \n4210  9780760728505 Retells the adventures of a Fren...           Fiction  \n5314  9781416502043 When the body of a half-drowned ...           Fiction  \n5887  9781841494081 A score of centuries has passed ...        Nonfiction  \n5954  9781857231359 The man known as Cheradenine Zak...        Nonfiction  \n5971  9781857989342 In the year 2100, mankind on Ear...           Fiction  ",
      "text/html": "<div>\n<style scoped>\n    .dataframe tbody tr th:only-of-type {\n        vertical-align: middle;\n    }\n\n    .dataframe tbody tr th {\n        vertical-align: top;\n    }\n\n    .dataframe thead th {\n        text-align: right;\n    }\n</style>\n<table border=\"1\" class=\"dataframe\">\n  <thead>\n    <tr style=\"text-align: right;\">\n      <th></th>\n      <th>isbn13</th>\n      <th>isbn10</th>\n      <th>title</th>\n      <th>authors</th>\n      <th>categories</th>\n      <th>thumbnail</th>\n      <th>description</th>\n      <th>published_year</th>\n      <th>average_rating</th>\n      <th>num_pages</th>\n      <th>ratings_count</th>\n      <th>title_and_subtitle</th>\n      <th>tagged_description</th>\n      <th>simple_categories</th>\n    </tr>\n  </thead>\n  <tbody>\n    <tr>\n      <th>25</th>\n      <td>9780006513087</td>\n      <td>0006513085</td>\n      <td>Gravity</td>\n      <td>Tess Gerritsen</td>\n      <td>Science fiction</td>\n      <td>http://books.google.com/books/content?id=KI66c...</td>\n      <td>Emma Watson a research physician has been trai...</td>\n      <td>2004.0</td>\n      <td>4.04</td>\n      <td>342.0</td>\n      <td>8024.0</td>\n      <td>Gravity</td>\n      <td>9780006513087 Emma Watson a research physician...</td>\n      <td>Nonfiction</td>\n    </tr>\n    <tr>\n      <th>519</th>\n      <td>9780099410355</td>\n      <td>0099410354</td>\n      <td>Traitor</td>\n      <td>Matthew Woodring Stover</td>\n      <td>Science fiction</td>\n      <td>http://books.google.com/books/content?id=VbICO...</td>\n      <td>From the depths of catastrophe, a glimmer of h...</td>\n      <td>2002.0</td>\n      <td>4.00</td>\n      <td>320.0</td>\n      <td>6765.0</td>\n      <td>Traitor</td>\n      <td>9780099410355 From the depths of catastrophe, ...</td>\n      <td>Fiction</td>\n    </tr>\n    <tr>\n      <th>522</th>\n      <td>9780099422341</td>\n      <td>0099422344</td>\n      <td>Yeats is Dead!</td>\n      <td>Joseph O'Connor</td>\n      <td>Comedy</td>\n      <td>http://books.google.com/books/content?id=DrE3I...</td>\n      <td>In aid of Amnesty International, this is a bri...</td>\n      <td>2002.0</td>\n      <td>3.39</td>\n      <td>298.0</td>\n      <td>34.0</td>\n      <td>Yeats is Dead!: A Novel by Fifteen Irish Writers</td>\n      <td>9780099422341 In aid of Amnesty International,...</td>\n      <td>Fiction</td>\n    </tr>\n    <tr>\n      <th>535</th>\n      <td>9780099446729</td>\n      <td>0099446723</td>\n      <td>Blackwood Farm</td>\n      <td>Anne Rice</td>\n      <td>Horror</td>\n      <td>http://books.google.com/books/content?id=cIn8T...</td>\n      <td>Lestat Is Back, Saviour And Demon, Presiding O...</td>\n      <td>2003.0</td>\n      <td>3.86</td>\n      <td>774.0</td>\n      <td>26145.0</td>\n      <td>Blackwood Farm</td>\n      <td>9780099446729 Lestat Is Back, Saviour And Demo...</td>\n      <td>Fiction</td>\n    </tr>\n    <tr>\n      <th>1244</th>\n      <td>9780261102422</td>\n      <td>0261102427</td>\n      <td>The Silmarillion</td>\n      <td>John Ronald Reuel Tolkien</td>\n      <td>Fantasy</td>\n      <td>http://books.google.com/books/content?id=22ePu...</td>\n      <td>Tolkien's Silmarillion is the core work of the...</td>\n      <td>1999.0</td>\n      <td>3.91</td>\n      <td>384.0</td>\n      <td>253.0</td>\n      <td>The Silmarillion</td>\n      <td>9780261102422 Tolkien's Silmarillion is the co...</td>\n      <td>Fiction</td>\n    </tr>\n    <tr>\n      <th>1583</th>\n      <td>9780330351829</td>\n      <td>0330351826</td>\n      <td>A Second Chance at Eden</td>\n      <td>Peter F. Hamilton</td>\n      <td>Science fiction</td>\n      <td>http://books.google.com/books/content?id=foyS8...</td>\n      <td>This novella and six stories are set in the sa...</td>\n      <td>1999.0</td>\n      <td>4.02</td>\n      <td>496.0</td>\n      <td>3844.0</td>\n      <td>A Second Chance at Eden</td>\n      <td>9780330351829 This novella and six stories are...</td>\n      <td>Fiction</td>\n    </tr>\n    <tr>\n      <th>1633</th>\n      <td>9780340837955</td>\n      <td>0340837950</td>\n      <td>Stranger in a Strange Land</td>\n      <td>Robert A. Heinlein</td>\n      <td>Science fiction</td>\n      <td>http://books.google.com/books/content?id=ZQhiP...</td>\n      <td>Epic, entertaining, Stranger in a Strange Land...</td>\n      <td>2005.0</td>\n      <td>3.92</td>\n      <td>672.0</td>\n      <td>563.0</td>\n      <td>Stranger in a Strange Land</td>\n      <td>9780340837955 Epic, entertaining, Stranger in ...</td>\n      <td>Fiction</td>\n    </tr>\n    <tr>\n      <th>1638</th>\n      <td>9780345251220</td>\n      <td>0345251229</td>\n      <td>Visions from Nowhere</td>\n      <td>William Arrow</td>\n      <td>Science fiction</td>\n      <td>NaN</td>\n      <td>The first novel in the series, \"Return to the ...</td>\n      <td>1976.0</td>\n      <td>3.23</td>\n      <td>183.0</td>\n      <td>10.0</td>\n      <td>Visions from Nowhere</td>\n      <td>9780345251220 The first novel in the series, \"...</td>\n      <td>Fiction</td>\n    </tr>\n    <tr>\n      <th>2457</th>\n      <td>9780439405607</td>\n      <td>0439405602</td>\n      <td>Guardians of Ga'Hoole #4: The Siege</td>\n      <td>Kathryn Lasky</td>\n      <td>Fantasy</td>\n      <td>NaN</td>\n      <td>The war between the evil group led by Soren's ...</td>\n      <td>2003.0</td>\n      <td>4.10</td>\n      <td>203.0</td>\n      <td>8964.0</td>\n      <td>Guardians of Ga'Hoole #4: The Siege</td>\n      <td>9780439405607 The war between the evil group l...</td>\n      <td>Fiction</td>\n    </tr>\n    <tr>\n      <th>3326</th>\n      <td>9780575075597</td>\n      <td>0575075597</td>\n      <td>Replay</td>\n      <td>Ken Grimwood</td>\n      <td>Fantasy</td>\n      <td>http://books.google.com/books/content?id=9vmNP...</td>\n      <td>At forty-three Jeff Winston is tired of his lo...</td>\n      <td>2005.0</td>\n      <td>4.16</td>\n      <td>272.0</td>\n      <td>412.0</td>\n      <td>Replay</td>\n      <td>9780575075597 At forty-three Jeff Winston is t...</td>\n      <td>Fiction</td>\n    </tr>\n    <tr>\n      <th>3346</th>\n      <td>9780590254762</td>\n      <td>0590254766</td>\n      <td>The lion, the witch and the wardrobe</td>\n      <td>Clive Staples Lewis</td>\n      <td>Fantasy</td>\n      <td>NaN</td>\n      <td>Four English school children enter the magic l...</td>\n      <td>1995.0</td>\n      <td>4.21</td>\n      <td>189.0</td>\n      <td>860.0</td>\n      <td>The lion, the witch and the wardrobe</td>\n      <td>9780590254762 Four English school children ent...</td>\n      <td>Nonfiction</td>\n    </tr>\n    <tr>\n      <th>3902</th>\n      <td>9780739423851</td>\n      <td>0739423851</td>\n      <td>Wizard's Castle</td>\n      <td>Diana Wynne Jones</td>\n      <td>Fantasy</td>\n      <td>http://books.google.com/books/content?id=hB7hA...</td>\n      <td>Howl's moving castle - Eldest of three sisters...</td>\n      <td>2002.0</td>\n      <td>4.44</td>\n      <td>376.0</td>\n      <td>439.0</td>\n      <td>Wizard's Castle</td>\n      <td>9780739423851 Howl's moving castle - Eldest of...</td>\n      <td>Fiction</td>\n    </tr>\n    <tr>\n      <th>3904</th>\n      <td>9780739439708</td>\n      <td>0739439707</td>\n      <td>Time Quartet</td>\n      <td>Madeleine L'Engle</td>\n      <td>Science fiction</td>\n      <td>NaN</td>\n      <td>Blending magic with quantum physics, Madeleine...</td>\n      <td>2003.0</td>\n      <td>4.35</td>\n      <td>646.0</td>\n      <td>165.0</td>\n      <td>Time Quartet</td>\n      <td>9780739439708 Blending magic with quantum phys...</td>\n      <td>Fiction</td>\n    </tr>\n    <tr>\n      <th>4210</th>\n      <td>9780760728505</td>\n      <td>076072850X</td>\n      <td>20,000 Leagues Under the Sea</td>\n      <td>Jules Verne</td>\n      <td>Science fiction</td>\n      <td>NaN</td>\n      <td>Retells the adventures of a French professor a...</td>\n      <td>2002.0</td>\n      <td>3.88</td>\n      <td>394.0</td>\n      <td>135778.0</td>\n      <td>20,000 Leagues Under the Sea</td>\n      <td>9780760728505 Retells the adventures of a Fren...</td>\n      <td>Fiction</td>\n    </tr>\n    <tr>\n      <th>5314</th>\n      <td>9781416502043</td>\n      <td>1416502041</td>\n      <td>The Voyage of the Jerle Shannara Trilogy</td>\n      <td>Terry Brooks</td>\n      <td>Fantasy</td>\n      <td>http://books.google.com/books/content?id=jqVsA...</td>\n      <td>When the body of a half-drowned elf is found f...</td>\n      <td>2004.0</td>\n      <td>4.26</td>\n      <td>1260.0</td>\n      <td>84.0</td>\n      <td>The Voyage of the Jerle Shannara Trilogy</td>\n      <td>9781416502043 When the body of a half-drowned ...</td>\n      <td>Fiction</td>\n    </tr>\n    <tr>\n      <th>5887</th>\n      <td>9781841494081</td>\n      <td>1841494089</td>\n      <td>The Darkness that Comes Before</td>\n      <td>R. Scott Bakker</td>\n      <td>Fantasy</td>\n      <td>http://books.google.com/books/content?id=BG8qG...</td>\n      <td>A score of centuries has passed since the Firs...</td>\n      <td>2005.0</td>\n      <td>3.79</td>\n      <td>638.0</td>\n      <td>317.0</td>\n      <td>The Darkness that Comes Before</td>\n      <td>9781841494081 A score of centuries has passed ...</td>\n      <td>Nonfiction</td>\n    </tr>\n    <tr>\n      <th>5954</th>\n      <td>9781857231359</td>\n      <td>185723135X</td>\n      <td>Use of Weapons</td>\n      <td>Iain Banks</td>\n      <td>Science fiction</td>\n      <td>NaN</td>\n      <td>The man known as Cheradenine Zakalwe was one o...</td>\n      <td>1992.0</td>\n      <td>4.19</td>\n      <td>411.0</td>\n      <td>30779.0</td>\n      <td>Use of Weapons</td>\n      <td>9781857231359 The man known as Cheradenine Zak...</td>\n      <td>Nonfiction</td>\n    </tr>\n    <tr>\n      <th>5971</th>\n      <td>9781857989342</td>\n      <td>1857989341</td>\n      <td>The Gods Themselves</td>\n      <td>Isaac Asimov</td>\n      <td>Science fiction</td>\n      <td>http://books.google.com/books/content?id=8ClIP...</td>\n      <td>In the year 2100, mankind on Earth, settlers i...</td>\n      <td>2000.0</td>\n      <td>4.09</td>\n      <td>288.0</td>\n      <td>41304.0</td>\n      <td>The Gods Themselves</td>\n      <td>9781857989342 In the year 2100, mankind on Ear...</td>\n      <td>Fiction</td>\n    </tr>\n  </tbody>\n</table>\n</div>"
     },
     "execution_count": 28,
     "metadata": {},
     "output_type": "execute_result"
    }
   ],
   "source": [
    "books[books[\"categories\"].str.lower().isin([\n",
    "    \"romance\",\n",
    "    \"science fiction\",\n",
    "    \"scifi\",\n",
    "    \"fantasy\",\n",
    "    \"horror\",\n",
    "    \"mystery\",\n",
    "    \"thriller\",\n",
    "    \"comedy\",\n",
    "    \"crime\",\n",
    "    \"historical\"\n",
    "])]"
   ],
   "metadata": {
    "collapsed": false,
    "ExecuteTime": {
     "end_time": "2025-06-25T20:26:10.394705Z",
     "start_time": "2025-06-25T20:26:10.343622Z"
    }
   },
   "id": "33caabe18cdd0753"
  },
  {
   "cell_type": "code",
   "execution_count": 29,
   "outputs": [],
   "source": [
    "books.to_csv(\"books_with_categories.csv\", index=False)"
   ],
   "metadata": {
    "collapsed": false,
    "ExecuteTime": {
     "end_time": "2025-06-25T20:26:26.993272Z",
     "start_time": "2025-06-25T20:26:26.802651800Z"
    }
   },
   "id": "ed2258c6474b5d60"
  },
  {
   "cell_type": "code",
   "execution_count": null,
   "outputs": [],
   "source": [],
   "metadata": {
    "collapsed": false
   },
   "id": "8cb8c65a9c642f9f"
  }
 ],
 "metadata": {
  "kernelspec": {
   "name": "gpu-pytorch",
   "language": "python",
   "display_name": "Python (GPU PyTorch)"
  },
  "language_info": {
   "codemirror_mode": {
    "name": "ipython",
    "version": 2
   },
   "file_extension": ".py",
   "mimetype": "text/x-python",
   "name": "python",
   "nbconvert_exporter": "python",
   "pygments_lexer": "ipython2",
   "version": "2.7.6"
  }
 },
 "nbformat": 4,
 "nbformat_minor": 5
}
